{
 "cells": [
  {
   "cell_type": "markdown",
   "metadata": {
    "colab_type": "text",
    "id": "jLiegAgrN9rn"
   },
   "source": [
    "결정트리\n",
    "==\n",
    "데이터\n",
    "--\n",
    "- 붓꽃(iris) 분류 데이터\n"
   ]
  },
  {
   "cell_type": "code",
   "execution_count": 1,
   "metadata": {},
   "outputs": [],
   "source": [
    "from sklearn.datasets import load_iris"
   ]
  },
  {
   "cell_type": "code",
   "execution_count": 2,
   "metadata": {
    "colab": {},
    "colab_type": "code",
    "id": "IxARNEkiN9rp"
   },
   "outputs": [],
   "source": [
    "iris = load_iris()"
   ]
  },
  {
   "cell_type": "markdown",
   "metadata": {},
   "source": [
    "### 먼저 4개의 속성 중, 2개의 속성만 사용\n",
    "- 꽃받침(sepal)의 길이(length)\n",
    "- 꽃받침의(sepal) 폭(width)"
   ]
  },
  {
   "cell_type": "code",
   "execution_count": 3,
   "metadata": {
    "scrolled": true
   },
   "outputs": [
    {
     "data": {
      "text/plain": [
       "['sepal length (cm)',\n",
       " 'sepal width (cm)',\n",
       " 'petal length (cm)',\n",
       " 'petal width (cm)']"
      ]
     },
     "execution_count": 3,
     "metadata": {},
     "output_type": "execute_result"
    }
   ],
   "source": [
    "iris.feature_names"
   ]
  },
  {
   "cell_type": "code",
   "execution_count": 4,
   "metadata": {},
   "outputs": [
    {
     "data": {
      "text/plain": [
       "array(['setosa', 'versicolor', 'virginica'], dtype='<U10')"
      ]
     },
     "execution_count": 4,
     "metadata": {},
     "output_type": "execute_result"
    }
   ],
   "source": [
    "iris.target_names"
   ]
  },
  {
   "cell_type": "code",
   "execution_count": 5,
   "metadata": {},
   "outputs": [],
   "source": [
    "X = iris.data[:, :2]\n",
    "y = iris.target"
   ]
  },
  {
   "cell_type": "code",
   "execution_count": 6,
   "metadata": {
    "collapsed": true
   },
   "outputs": [
    {
     "data": {
      "text/plain": [
       "array([[5.1, 3.5],\n",
       "       [4.9, 3. ],\n",
       "       [4.7, 3.2],\n",
       "       [4.6, 3.1],\n",
       "       [5. , 3.6],\n",
       "       [5.4, 3.9],\n",
       "       [4.6, 3.4],\n",
       "       [5. , 3.4],\n",
       "       [4.4, 2.9],\n",
       "       [4.9, 3.1],\n",
       "       [5.4, 3.7],\n",
       "       [4.8, 3.4],\n",
       "       [4.8, 3. ],\n",
       "       [4.3, 3. ],\n",
       "       [5.8, 4. ],\n",
       "       [5.7, 4.4],\n",
       "       [5.4, 3.9],\n",
       "       [5.1, 3.5],\n",
       "       [5.7, 3.8],\n",
       "       [5.1, 3.8],\n",
       "       [5.4, 3.4],\n",
       "       [5.1, 3.7],\n",
       "       [4.6, 3.6],\n",
       "       [5.1, 3.3],\n",
       "       [4.8, 3.4],\n",
       "       [5. , 3. ],\n",
       "       [5. , 3.4],\n",
       "       [5.2, 3.5],\n",
       "       [5.2, 3.4],\n",
       "       [4.7, 3.2],\n",
       "       [4.8, 3.1],\n",
       "       [5.4, 3.4],\n",
       "       [5.2, 4.1],\n",
       "       [5.5, 4.2],\n",
       "       [4.9, 3.1],\n",
       "       [5. , 3.2],\n",
       "       [5.5, 3.5],\n",
       "       [4.9, 3.6],\n",
       "       [4.4, 3. ],\n",
       "       [5.1, 3.4],\n",
       "       [5. , 3.5],\n",
       "       [4.5, 2.3],\n",
       "       [4.4, 3.2],\n",
       "       [5. , 3.5],\n",
       "       [5.1, 3.8],\n",
       "       [4.8, 3. ],\n",
       "       [5.1, 3.8],\n",
       "       [4.6, 3.2],\n",
       "       [5.3, 3.7],\n",
       "       [5. , 3.3],\n",
       "       [7. , 3.2],\n",
       "       [6.4, 3.2],\n",
       "       [6.9, 3.1],\n",
       "       [5.5, 2.3],\n",
       "       [6.5, 2.8],\n",
       "       [5.7, 2.8],\n",
       "       [6.3, 3.3],\n",
       "       [4.9, 2.4],\n",
       "       [6.6, 2.9],\n",
       "       [5.2, 2.7],\n",
       "       [5. , 2. ],\n",
       "       [5.9, 3. ],\n",
       "       [6. , 2.2],\n",
       "       [6.1, 2.9],\n",
       "       [5.6, 2.9],\n",
       "       [6.7, 3.1],\n",
       "       [5.6, 3. ],\n",
       "       [5.8, 2.7],\n",
       "       [6.2, 2.2],\n",
       "       [5.6, 2.5],\n",
       "       [5.9, 3.2],\n",
       "       [6.1, 2.8],\n",
       "       [6.3, 2.5],\n",
       "       [6.1, 2.8],\n",
       "       [6.4, 2.9],\n",
       "       [6.6, 3. ],\n",
       "       [6.8, 2.8],\n",
       "       [6.7, 3. ],\n",
       "       [6. , 2.9],\n",
       "       [5.7, 2.6],\n",
       "       [5.5, 2.4],\n",
       "       [5.5, 2.4],\n",
       "       [5.8, 2.7],\n",
       "       [6. , 2.7],\n",
       "       [5.4, 3. ],\n",
       "       [6. , 3.4],\n",
       "       [6.7, 3.1],\n",
       "       [6.3, 2.3],\n",
       "       [5.6, 3. ],\n",
       "       [5.5, 2.5],\n",
       "       [5.5, 2.6],\n",
       "       [6.1, 3. ],\n",
       "       [5.8, 2.6],\n",
       "       [5. , 2.3],\n",
       "       [5.6, 2.7],\n",
       "       [5.7, 3. ],\n",
       "       [5.7, 2.9],\n",
       "       [6.2, 2.9],\n",
       "       [5.1, 2.5],\n",
       "       [5.7, 2.8],\n",
       "       [6.3, 3.3],\n",
       "       [5.8, 2.7],\n",
       "       [7.1, 3. ],\n",
       "       [6.3, 2.9],\n",
       "       [6.5, 3. ],\n",
       "       [7.6, 3. ],\n",
       "       [4.9, 2.5],\n",
       "       [7.3, 2.9],\n",
       "       [6.7, 2.5],\n",
       "       [7.2, 3.6],\n",
       "       [6.5, 3.2],\n",
       "       [6.4, 2.7],\n",
       "       [6.8, 3. ],\n",
       "       [5.7, 2.5],\n",
       "       [5.8, 2.8],\n",
       "       [6.4, 3.2],\n",
       "       [6.5, 3. ],\n",
       "       [7.7, 3.8],\n",
       "       [7.7, 2.6],\n",
       "       [6. , 2.2],\n",
       "       [6.9, 3.2],\n",
       "       [5.6, 2.8],\n",
       "       [7.7, 2.8],\n",
       "       [6.3, 2.7],\n",
       "       [6.7, 3.3],\n",
       "       [7.2, 3.2],\n",
       "       [6.2, 2.8],\n",
       "       [6.1, 3. ],\n",
       "       [6.4, 2.8],\n",
       "       [7.2, 3. ],\n",
       "       [7.4, 2.8],\n",
       "       [7.9, 3.8],\n",
       "       [6.4, 2.8],\n",
       "       [6.3, 2.8],\n",
       "       [6.1, 2.6],\n",
       "       [7.7, 3. ],\n",
       "       [6.3, 3.4],\n",
       "       [6.4, 3.1],\n",
       "       [6. , 3. ],\n",
       "       [6.9, 3.1],\n",
       "       [6.7, 3.1],\n",
       "       [6.9, 3.1],\n",
       "       [5.8, 2.7],\n",
       "       [6.8, 3.2],\n",
       "       [6.7, 3.3],\n",
       "       [6.7, 3. ],\n",
       "       [6.3, 2.5],\n",
       "       [6.5, 3. ],\n",
       "       [6.2, 3.4],\n",
       "       [5.9, 3. ]])"
      ]
     },
     "execution_count": 6,
     "metadata": {},
     "output_type": "execute_result"
    }
   ],
   "source": [
    "X"
   ]
  },
  {
   "cell_type": "code",
   "execution_count": 7,
   "metadata": {
    "scrolled": true
   },
   "outputs": [
    {
     "data": {
      "text/plain": [
       "array([0, 0, 0, 0, 0, 0, 0, 0, 0, 0, 0, 0, 0, 0, 0, 0, 0, 0, 0, 0, 0, 0,\n",
       "       0, 0, 0, 0, 0, 0, 0, 0, 0, 0, 0, 0, 0, 0, 0, 0, 0, 0, 0, 0, 0, 0,\n",
       "       0, 0, 0, 0, 0, 0, 1, 1, 1, 1, 1, 1, 1, 1, 1, 1, 1, 1, 1, 1, 1, 1,\n",
       "       1, 1, 1, 1, 1, 1, 1, 1, 1, 1, 1, 1, 1, 1, 1, 1, 1, 1, 1, 1, 1, 1,\n",
       "       1, 1, 1, 1, 1, 1, 1, 1, 1, 1, 1, 1, 2, 2, 2, 2, 2, 2, 2, 2, 2, 2,\n",
       "       2, 2, 2, 2, 2, 2, 2, 2, 2, 2, 2, 2, 2, 2, 2, 2, 2, 2, 2, 2, 2, 2,\n",
       "       2, 2, 2, 2, 2, 2, 2, 2, 2, 2, 2, 2, 2, 2, 2, 2, 2, 2])"
      ]
     },
     "execution_count": 7,
     "metadata": {},
     "output_type": "execute_result"
    }
   ],
   "source": [
    "y"
   ]
  },
  {
   "cell_type": "code",
   "execution_count": 8,
   "metadata": {
    "scrolled": true
   },
   "outputs": [
    {
     "data": {
      "text/plain": [
       "(numpy.ndarray, numpy.ndarray)"
      ]
     },
     "execution_count": 8,
     "metadata": {},
     "output_type": "execute_result"
    }
   ],
   "source": [
    "type(X), type(y)"
   ]
  },
  {
   "cell_type": "markdown",
   "metadata": {},
   "source": [
    "### 결정 트리 모델 생성\n",
    "- 훈련 데이터로 훈련 : 깊이는 2 로 제한\n",
    "- 지니 불순도가 가장 작은 값도록 결정 트리 생성"
   ]
  },
  {
   "cell_type": "code",
   "execution_count": 9,
   "metadata": {},
   "outputs": [],
   "source": [
    "from sklearn.tree import DecisionTreeClassifier"
   ]
  },
  {
   "cell_type": "code",
   "execution_count": 20,
   "metadata": {
    "colab": {
     "base_uri": "https://localhost:8080/",
     "height": 116
    },
    "colab_type": "code",
    "id": "Oq-0Op8FN9rs",
    "outputId": "aa64a283-27ab-41ae-8be0-6e9d7fd59fdc",
    "scrolled": true
   },
   "outputs": [
    {
     "data": {
      "text/plain": [
       "DecisionTreeClassifier(class_weight=None, criterion='gini', max_depth=5,\n",
       "            max_features=None, max_leaf_nodes=None,\n",
       "            min_impurity_decrease=0.0, min_impurity_split=None,\n",
       "            min_samples_leaf=1, min_samples_split=2,\n",
       "            min_weight_fraction_leaf=0.0, presort=False, random_state=None,\n",
       "            splitter='best')"
      ]
     },
     "execution_count": 20,
     "metadata": {},
     "output_type": "execute_result"
    }
   ],
   "source": [
    "clf = DecisionTreeClassifier(max_depth = 5)\n",
    "clf.fit(X, y)"
   ]
  },
  {
   "cell_type": "markdown",
   "metadata": {
    "colab_type": "text",
    "id": "LXbeJAz3N9ry"
   },
   "source": [
    "결정 트리 그래프 그리기 (옵션)\n",
    "--"
   ]
  },
  {
   "cell_type": "markdown",
   "metadata": {
    "colab_type": "text",
    "id": "QtnLyNAmN9rz"
   },
   "source": [
    "Graphviz 설치\n",
    "--\n",
    "\n",
    "- graphviz.org 사이트에서 다운로드 후 설치\n",
    "- 윈도우 버전:\n",
    "1. https://graphviz.gitlab.io/_pages/Download/Download_windows.html 접속\n",
    "   - msi 파일 다운로드후, 설치\n",
    "2. 시스템 환경변수 path에 추가\n",
    "   - 파일 위치\\graphviz2.38\\bin\n",
    "   - 파일 위치\\graphviz2.38\\bin\\dot.exe(안 해도 됨)\n",
    "3. Jupyter Notebook(파이썬)에서는\n",
    "   - import os\n",
    "   - os.environ[\"PATH\"] += os.pathsep + 'C:/Program Files (x86)/Graphviz2.38/bin'"
   ]
  },
  {
   "cell_type": "code",
   "execution_count": 16,
   "metadata": {
    "colab": {
     "base_uri": "https://localhost:8080/",
     "height": 33
    },
    "colab_type": "code",
    "id": "EYYj6m8IN9rz",
    "outputId": "a5f97de5-7b33-4fe5-8a2c-2b1d76cd9b17",
    "scrolled": true
   },
   "outputs": [
    {
     "name": "stdout",
     "output_type": "stream",
     "text": [
      "Collecting graphviz\n",
      "  Downloading https://files.pythonhosted.org/packages/17/51/d6de512dbbbab95f0adb53fb2a4396b79722f7c3fbe8ecc2d8c6ab7de00a/graphviz-0.12-py2.py3-none-any.whl\n",
      "Installing collected packages: graphviz\n",
      "Successfully installed graphviz-0.12\n"
     ]
    }
   ],
   "source": [
    "!pip install graphviz"
   ]
  },
  {
   "cell_type": "code",
   "execution_count": 27,
   "metadata": {},
   "outputs": [],
   "source": [
    "import os\n",
    "os.environ[\"PATH\"] += os.pathsep + \\\n",
    "'C:/Program Files (x86)/Graphviz2.38/bin'"
   ]
  },
  {
   "cell_type": "code",
   "execution_count": 5,
   "metadata": {
    "scrolled": false
   },
   "outputs": [
    {
     "name": "stdout",
     "output_type": "stream",
     "text": [
      "Collecting pip\n",
      "  Downloading https://files.pythonhosted.org/packages/62/ca/94d32a6516ed197a491d17d46595ce58a83cbb2fca280414e57cd86b84dc/pip-19.2.1-py2.py3-none-any.whl (1.4MB)\n",
      "Installing collected packages: pip\n",
      "  Found existing installation: pip 19.1\n",
      "    Uninstalling pip-19.1:\n",
      "      Successfully uninstalled pip-19.1\n",
      "Successfully installed pip-19.2.1\n"
     ]
    }
   ],
   "source": [
    "!python -m pip install --upgrade pip"
   ]
  },
  {
   "cell_type": "code",
   "execution_count": 22,
   "metadata": {
    "colab": {},
    "colab_type": "code",
    "id": "WjvXWXrJN9r2",
    "scrolled": true
   },
   "outputs": [],
   "source": [
    "from sklearn.tree import export_graphviz\n",
    "import graphviz\n",
    "export_graphviz(\n",
    "    clf,\n",
    "    out_file = \"./iris.dot\",\n",
    "    feature_names = iris.feature_names[:2],\n",
    "    class_names = iris.target_names,\n",
    "    filled = True\n",
    "    )"
   ]
  },
  {
   "cell_type": "code",
   "execution_count": 23,
   "metadata": {
    "colab": {
     "base_uri": "https://localhost:8080/",
     "height": 440
    },
    "colab_type": "code",
    "id": "NgbjTOpxN9r5",
    "outputId": "02703cc6-7871-4640-9f7f-1d7cef8748a8",
    "scrolled": true
   },
   "outputs": [
    {
     "data": {
      "image/svg+xml": [
       "<?xml version=\"1.0\" encoding=\"UTF-8\" standalone=\"no\"?>\r\n",
       "<!DOCTYPE svg PUBLIC \"-//W3C//DTD SVG 1.1//EN\"\r\n",
       " \"http://www.w3.org/Graphics/SVG/1.1/DTD/svg11.dtd\">\r\n",
       "<!-- Generated by graphviz version 2.38.0 (20140413.2041)\r\n",
       " -->\r\n",
       "<!-- Title: Tree Pages: 1 -->\r\n",
       "<svg width=\"1386pt\" height=\"671pt\"\r\n",
       " viewBox=\"0.00 0.00 1386.00 671.00\" xmlns=\"http://www.w3.org/2000/svg\" xmlns:xlink=\"http://www.w3.org/1999/xlink\">\r\n",
       "<g id=\"graph0\" class=\"graph\" transform=\"scale(1 1) rotate(0) translate(4 667)\">\r\n",
       "<title>Tree</title>\r\n",
       "<polygon fill=\"white\" stroke=\"none\" points=\"-4,4 -4,-667 1382,-667 1382,4 -4,4\"/>\r\n",
       "<!-- 0 -->\r\n",
       "<g id=\"node1\" class=\"node\"><title>0</title>\r\n",
       "<polygon fill=\"none\" stroke=\"black\" points=\"729,-663 569,-663 569,-580 729,-580 729,-663\"/>\r\n",
       "<text text-anchor=\"middle\" x=\"649\" y=\"-647.8\" font-family=\"Times New Roman,serif\" font-size=\"14.00\">sepal length (cm) &lt;= 5.45</text>\r\n",
       "<text text-anchor=\"middle\" x=\"649\" y=\"-632.8\" font-family=\"Times New Roman,serif\" font-size=\"14.00\">gini = 0.667</text>\r\n",
       "<text text-anchor=\"middle\" x=\"649\" y=\"-617.8\" font-family=\"Times New Roman,serif\" font-size=\"14.00\">samples = 150</text>\r\n",
       "<text text-anchor=\"middle\" x=\"649\" y=\"-602.8\" font-family=\"Times New Roman,serif\" font-size=\"14.00\">value = [50, 50, 50]</text>\r\n",
       "<text text-anchor=\"middle\" x=\"649\" y=\"-587.8\" font-family=\"Times New Roman,serif\" font-size=\"14.00\">class = setosa</text>\r\n",
       "</g>\r\n",
       "<!-- 1 -->\r\n",
       "<g id=\"node2\" class=\"node\"><title>1</title>\r\n",
       "<polygon fill=\"#e58139\" fill-opacity=\"0.847059\" stroke=\"black\" points=\"635.5,-544 484.5,-544 484.5,-461 635.5,-461 635.5,-544\"/>\r\n",
       "<text text-anchor=\"middle\" x=\"560\" y=\"-528.8\" font-family=\"Times New Roman,serif\" font-size=\"14.00\">sepal width (cm) &lt;= 2.8</text>\r\n",
       "<text text-anchor=\"middle\" x=\"560\" y=\"-513.8\" font-family=\"Times New Roman,serif\" font-size=\"14.00\">gini = 0.237</text>\r\n",
       "<text text-anchor=\"middle\" x=\"560\" y=\"-498.8\" font-family=\"Times New Roman,serif\" font-size=\"14.00\">samples = 52</text>\r\n",
       "<text text-anchor=\"middle\" x=\"560\" y=\"-483.8\" font-family=\"Times New Roman,serif\" font-size=\"14.00\">value = [45, 6, 1]</text>\r\n",
       "<text text-anchor=\"middle\" x=\"560\" y=\"-468.8\" font-family=\"Times New Roman,serif\" font-size=\"14.00\">class = setosa</text>\r\n",
       "</g>\r\n",
       "<!-- 0&#45;&gt;1 -->\r\n",
       "<g id=\"edge1\" class=\"edge\"><title>0&#45;&gt;1</title>\r\n",
       "<path fill=\"none\" stroke=\"black\" d=\"M618.122,-579.907C611.288,-570.923 603.979,-561.315 596.931,-552.05\"/>\r\n",
       "<polygon fill=\"black\" stroke=\"black\" points=\"599.664,-549.861 590.824,-544.021 594.092,-554.099 599.664,-549.861\"/>\r\n",
       "<text text-anchor=\"middle\" x=\"587.456\" y=\"-565.093\" font-family=\"Times New Roman,serif\" font-size=\"14.00\">True</text>\r\n",
       "</g>\r\n",
       "<!-- 14 -->\r\n",
       "<g id=\"node15\" class=\"node\"><title>14</title>\r\n",
       "<polygon fill=\"#8139e5\" fill-opacity=\"0.094118\" stroke=\"black\" points=\"819,-544 659,-544 659,-461 819,-461 819,-544\"/>\r\n",
       "<text text-anchor=\"middle\" x=\"739\" y=\"-528.8\" font-family=\"Times New Roman,serif\" font-size=\"14.00\">sepal length (cm) &lt;= 6.15</text>\r\n",
       "<text text-anchor=\"middle\" x=\"739\" y=\"-513.8\" font-family=\"Times New Roman,serif\" font-size=\"14.00\">gini = 0.546</text>\r\n",
       "<text text-anchor=\"middle\" x=\"739\" y=\"-498.8\" font-family=\"Times New Roman,serif\" font-size=\"14.00\">samples = 98</text>\r\n",
       "<text text-anchor=\"middle\" x=\"739\" y=\"-483.8\" font-family=\"Times New Roman,serif\" font-size=\"14.00\">value = [5, 44, 49]</text>\r\n",
       "<text text-anchor=\"middle\" x=\"739\" y=\"-468.8\" font-family=\"Times New Roman,serif\" font-size=\"14.00\">class = virginica</text>\r\n",
       "</g>\r\n",
       "<!-- 0&#45;&gt;14 -->\r\n",
       "<g id=\"edge14\" class=\"edge\"><title>0&#45;&gt;14</title>\r\n",
       "<path fill=\"none\" stroke=\"black\" d=\"M680.225,-579.907C687.136,-570.923 694.527,-561.315 701.654,-552.05\"/>\r\n",
       "<polygon fill=\"black\" stroke=\"black\" points=\"704.507,-554.081 707.83,-544.021 698.959,-549.813 704.507,-554.081\"/>\r\n",
       "<text text-anchor=\"middle\" x=\"711.064\" y=\"-565.111\" font-family=\"Times New Roman,serif\" font-size=\"14.00\">False</text>\r\n",
       "</g>\r\n",
       "<!-- 2 -->\r\n",
       "<g id=\"node3\" class=\"node\"><title>2</title>\r\n",
       "<polygon fill=\"#39e581\" fill-opacity=\"0.666667\" stroke=\"black\" points=\"333.5,-425 180.5,-425 180.5,-342 333.5,-342 333.5,-425\"/>\r\n",
       "<text text-anchor=\"middle\" x=\"257\" y=\"-409.8\" font-family=\"Times New Roman,serif\" font-size=\"14.00\">sepal length (cm) &lt;= 4.7</text>\r\n",
       "<text text-anchor=\"middle\" x=\"257\" y=\"-394.8\" font-family=\"Times New Roman,serif\" font-size=\"14.00\">gini = 0.449</text>\r\n",
       "<text text-anchor=\"middle\" x=\"257\" y=\"-379.8\" font-family=\"Times New Roman,serif\" font-size=\"14.00\">samples = 7</text>\r\n",
       "<text text-anchor=\"middle\" x=\"257\" y=\"-364.8\" font-family=\"Times New Roman,serif\" font-size=\"14.00\">value = [1, 5, 1]</text>\r\n",
       "<text text-anchor=\"middle\" x=\"257\" y=\"-349.8\" font-family=\"Times New Roman,serif\" font-size=\"14.00\">class = versicolor</text>\r\n",
       "</g>\r\n",
       "<!-- 1&#45;&gt;2 -->\r\n",
       "<g id=\"edge2\" class=\"edge\"><title>1&#45;&gt;2</title>\r\n",
       "<path fill=\"none\" stroke=\"black\" d=\"M484.322,-472.278C441.365,-455.69 387.45,-434.872 342.909,-417.673\"/>\r\n",
       "<polygon fill=\"black\" stroke=\"black\" points=\"344.143,-414.398 333.554,-414.06 341.622,-420.928 344.143,-414.398\"/>\r\n",
       "</g>\r\n",
       "<!-- 9 -->\r\n",
       "<g id=\"node10\" class=\"node\"><title>9</title>\r\n",
       "<polygon fill=\"#e58139\" fill-opacity=\"0.976471\" stroke=\"black\" points=\"640,-425 480,-425 480,-342 640,-342 640,-425\"/>\r\n",
       "<text text-anchor=\"middle\" x=\"560\" y=\"-409.8\" font-family=\"Times New Roman,serif\" font-size=\"14.00\">sepal length (cm) &lt;= 5.35</text>\r\n",
       "<text text-anchor=\"middle\" x=\"560\" y=\"-394.8\" font-family=\"Times New Roman,serif\" font-size=\"14.00\">gini = 0.043</text>\r\n",
       "<text text-anchor=\"middle\" x=\"560\" y=\"-379.8\" font-family=\"Times New Roman,serif\" font-size=\"14.00\">samples = 45</text>\r\n",
       "<text text-anchor=\"middle\" x=\"560\" y=\"-364.8\" font-family=\"Times New Roman,serif\" font-size=\"14.00\">value = [44, 1, 0]</text>\r\n",
       "<text text-anchor=\"middle\" x=\"560\" y=\"-349.8\" font-family=\"Times New Roman,serif\" font-size=\"14.00\">class = setosa</text>\r\n",
       "</g>\r\n",
       "<!-- 1&#45;&gt;9 -->\r\n",
       "<g id=\"edge9\" class=\"edge\"><title>1&#45;&gt;9</title>\r\n",
       "<path fill=\"none\" stroke=\"black\" d=\"M560,-460.907C560,-452.649 560,-443.864 560,-435.302\"/>\r\n",
       "<polygon fill=\"black\" stroke=\"black\" points=\"563.5,-435.021 560,-425.021 556.5,-435.021 563.5,-435.021\"/>\r\n",
       "</g>\r\n",
       "<!-- 3 -->\r\n",
       "<g id=\"node4\" class=\"node\"><title>3</title>\r\n",
       "<polygon fill=\"#e58139\" stroke=\"black\" points=\"158.5,-298.5 53.5,-298.5 53.5,-230.5 158.5,-230.5 158.5,-298.5\"/>\r\n",
       "<text text-anchor=\"middle\" x=\"106\" y=\"-283.3\" font-family=\"Times New Roman,serif\" font-size=\"14.00\">gini = 0.0</text>\r\n",
       "<text text-anchor=\"middle\" x=\"106\" y=\"-268.3\" font-family=\"Times New Roman,serif\" font-size=\"14.00\">samples = 1</text>\r\n",
       "<text text-anchor=\"middle\" x=\"106\" y=\"-253.3\" font-family=\"Times New Roman,serif\" font-size=\"14.00\">value = [1, 0, 0]</text>\r\n",
       "<text text-anchor=\"middle\" x=\"106\" y=\"-238.3\" font-family=\"Times New Roman,serif\" font-size=\"14.00\">class = setosa</text>\r\n",
       "</g>\r\n",
       "<!-- 2&#45;&gt;3 -->\r\n",
       "<g id=\"edge3\" class=\"edge\"><title>2&#45;&gt;3</title>\r\n",
       "<path fill=\"none\" stroke=\"black\" d=\"M204.611,-341.907C189.231,-329.99 172.434,-316.976 157.133,-305.12\"/>\r\n",
       "<polygon fill=\"black\" stroke=\"black\" points=\"158.854,-302.025 148.805,-298.667 154.566,-307.559 158.854,-302.025\"/>\r\n",
       "</g>\r\n",
       "<!-- 4 -->\r\n",
       "<g id=\"node5\" class=\"node\"><title>4</title>\r\n",
       "<polygon fill=\"#39e581\" fill-opacity=\"0.800000\" stroke=\"black\" points=\"337,-306 177,-306 177,-223 337,-223 337,-306\"/>\r\n",
       "<text text-anchor=\"middle\" x=\"257\" y=\"-290.8\" font-family=\"Times New Roman,serif\" font-size=\"14.00\">sepal length (cm) &lt;= 4.95</text>\r\n",
       "<text text-anchor=\"middle\" x=\"257\" y=\"-275.8\" font-family=\"Times New Roman,serif\" font-size=\"14.00\">gini = 0.278</text>\r\n",
       "<text text-anchor=\"middle\" x=\"257\" y=\"-260.8\" font-family=\"Times New Roman,serif\" font-size=\"14.00\">samples = 6</text>\r\n",
       "<text text-anchor=\"middle\" x=\"257\" y=\"-245.8\" font-family=\"Times New Roman,serif\" font-size=\"14.00\">value = [0, 5, 1]</text>\r\n",
       "<text text-anchor=\"middle\" x=\"257\" y=\"-230.8\" font-family=\"Times New Roman,serif\" font-size=\"14.00\">class = versicolor</text>\r\n",
       "</g>\r\n",
       "<!-- 2&#45;&gt;4 -->\r\n",
       "<g id=\"edge4\" class=\"edge\"><title>2&#45;&gt;4</title>\r\n",
       "<path fill=\"none\" stroke=\"black\" d=\"M257,-341.907C257,-333.649 257,-324.864 257,-316.302\"/>\r\n",
       "<polygon fill=\"black\" stroke=\"black\" points=\"260.5,-316.021 257,-306.021 253.5,-316.021 260.5,-316.021\"/>\r\n",
       "</g>\r\n",
       "<!-- 5 -->\r\n",
       "<g id=\"node6\" class=\"node\"><title>5</title>\r\n",
       "<polygon fill=\"none\" stroke=\"black\" points=\"202,-187 44,-187 44,-104 202,-104 202,-187\"/>\r\n",
       "<text text-anchor=\"middle\" x=\"123\" y=\"-171.8\" font-family=\"Times New Roman,serif\" font-size=\"14.00\">sepal width (cm) &lt;= 2.45</text>\r\n",
       "<text text-anchor=\"middle\" x=\"123\" y=\"-156.8\" font-family=\"Times New Roman,serif\" font-size=\"14.00\">gini = 0.5</text>\r\n",
       "<text text-anchor=\"middle\" x=\"123\" y=\"-141.8\" font-family=\"Times New Roman,serif\" font-size=\"14.00\">samples = 2</text>\r\n",
       "<text text-anchor=\"middle\" x=\"123\" y=\"-126.8\" font-family=\"Times New Roman,serif\" font-size=\"14.00\">value = [0, 1, 1]</text>\r\n",
       "<text text-anchor=\"middle\" x=\"123\" y=\"-111.8\" font-family=\"Times New Roman,serif\" font-size=\"14.00\">class = versicolor</text>\r\n",
       "</g>\r\n",
       "<!-- 4&#45;&gt;5 -->\r\n",
       "<g id=\"edge5\" class=\"edge\"><title>4&#45;&gt;5</title>\r\n",
       "<path fill=\"none\" stroke=\"black\" d=\"M210.509,-222.907C199.7,-213.469 188.102,-203.343 177,-193.649\"/>\r\n",
       "<polygon fill=\"black\" stroke=\"black\" points=\"179.243,-190.961 169.408,-187.021 174.639,-196.234 179.243,-190.961\"/>\r\n",
       "</g>\r\n",
       "<!-- 8 -->\r\n",
       "<g id=\"node9\" class=\"node\"><title>8</title>\r\n",
       "<polygon fill=\"#39e581\" stroke=\"black\" points=\"336,-179.5 220,-179.5 220,-111.5 336,-111.5 336,-179.5\"/>\r\n",
       "<text text-anchor=\"middle\" x=\"278\" y=\"-164.3\" font-family=\"Times New Roman,serif\" font-size=\"14.00\">gini = 0.0</text>\r\n",
       "<text text-anchor=\"middle\" x=\"278\" y=\"-149.3\" font-family=\"Times New Roman,serif\" font-size=\"14.00\">samples = 4</text>\r\n",
       "<text text-anchor=\"middle\" x=\"278\" y=\"-134.3\" font-family=\"Times New Roman,serif\" font-size=\"14.00\">value = [0, 4, 0]</text>\r\n",
       "<text text-anchor=\"middle\" x=\"278\" y=\"-119.3\" font-family=\"Times New Roman,serif\" font-size=\"14.00\">class = versicolor</text>\r\n",
       "</g>\r\n",
       "<!-- 4&#45;&gt;8 -->\r\n",
       "<g id=\"edge8\" class=\"edge\"><title>4&#45;&gt;8</title>\r\n",
       "<path fill=\"none\" stroke=\"black\" d=\"M264.286,-222.907C266.207,-212.204 268.287,-200.615 270.232,-189.776\"/>\r\n",
       "<polygon fill=\"black\" stroke=\"black\" points=\"273.725,-190.128 272.047,-179.667 266.835,-188.891 273.725,-190.128\"/>\r\n",
       "</g>\r\n",
       "<!-- 6 -->\r\n",
       "<g id=\"node7\" class=\"node\"><title>6</title>\r\n",
       "<polygon fill=\"#39e581\" stroke=\"black\" points=\"116,-68 0,-68 0,-0 116,-0 116,-68\"/>\r\n",
       "<text text-anchor=\"middle\" x=\"58\" y=\"-52.8\" font-family=\"Times New Roman,serif\" font-size=\"14.00\">gini = 0.0</text>\r\n",
       "<text text-anchor=\"middle\" x=\"58\" y=\"-37.8\" font-family=\"Times New Roman,serif\" font-size=\"14.00\">samples = 1</text>\r\n",
       "<text text-anchor=\"middle\" x=\"58\" y=\"-22.8\" font-family=\"Times New Roman,serif\" font-size=\"14.00\">value = [0, 1, 0]</text>\r\n",
       "<text text-anchor=\"middle\" x=\"58\" y=\"-7.8\" font-family=\"Times New Roman,serif\" font-size=\"14.00\">class = versicolor</text>\r\n",
       "</g>\r\n",
       "<!-- 5&#45;&gt;6 -->\r\n",
       "<g id=\"edge6\" class=\"edge\"><title>5&#45;&gt;6</title>\r\n",
       "<path fill=\"none\" stroke=\"black\" d=\"M98.7964,-103.726C93.5988,-94.9703 88.0978,-85.7032 82.8752,-76.9051\"/>\r\n",
       "<polygon fill=\"black\" stroke=\"black\" points=\"85.8811,-75.1121 77.7669,-68.2996 79.8617,-78.6853 85.8811,-75.1121\"/>\r\n",
       "</g>\r\n",
       "<!-- 7 -->\r\n",
       "<g id=\"node8\" class=\"node\"><title>7</title>\r\n",
       "<polygon fill=\"#8139e5\" stroke=\"black\" points=\"241.5,-68 134.5,-68 134.5,-0 241.5,-0 241.5,-68\"/>\r\n",
       "<text text-anchor=\"middle\" x=\"188\" y=\"-52.8\" font-family=\"Times New Roman,serif\" font-size=\"14.00\">gini = 0.0</text>\r\n",
       "<text text-anchor=\"middle\" x=\"188\" y=\"-37.8\" font-family=\"Times New Roman,serif\" font-size=\"14.00\">samples = 1</text>\r\n",
       "<text text-anchor=\"middle\" x=\"188\" y=\"-22.8\" font-family=\"Times New Roman,serif\" font-size=\"14.00\">value = [0, 0, 1]</text>\r\n",
       "<text text-anchor=\"middle\" x=\"188\" y=\"-7.8\" font-family=\"Times New Roman,serif\" font-size=\"14.00\">class = virginica</text>\r\n",
       "</g>\r\n",
       "<!-- 5&#45;&gt;7 -->\r\n",
       "<g id=\"edge7\" class=\"edge\"><title>5&#45;&gt;7</title>\r\n",
       "<path fill=\"none\" stroke=\"black\" d=\"M147.204,-103.726C152.401,-94.9703 157.902,-85.7032 163.125,-76.9051\"/>\r\n",
       "<polygon fill=\"black\" stroke=\"black\" points=\"166.138,-78.6853 168.233,-68.2996 160.119,-75.1121 166.138,-78.6853\"/>\r\n",
       "</g>\r\n",
       "<!-- 10 -->\r\n",
       "<g id=\"node11\" class=\"node\"><title>10</title>\r\n",
       "<polygon fill=\"#e58139\" stroke=\"black\" points=\"467,-298.5 355,-298.5 355,-230.5 467,-230.5 467,-298.5\"/>\r\n",
       "<text text-anchor=\"middle\" x=\"411\" y=\"-283.3\" font-family=\"Times New Roman,serif\" font-size=\"14.00\">gini = 0.0</text>\r\n",
       "<text text-anchor=\"middle\" x=\"411\" y=\"-268.3\" font-family=\"Times New Roman,serif\" font-size=\"14.00\">samples = 39</text>\r\n",
       "<text text-anchor=\"middle\" x=\"411\" y=\"-253.3\" font-family=\"Times New Roman,serif\" font-size=\"14.00\">value = [39, 0, 0]</text>\r\n",
       "<text text-anchor=\"middle\" x=\"411\" y=\"-238.3\" font-family=\"Times New Roman,serif\" font-size=\"14.00\">class = setosa</text>\r\n",
       "</g>\r\n",
       "<!-- 9&#45;&gt;10 -->\r\n",
       "<g id=\"edge10\" class=\"edge\"><title>9&#45;&gt;10</title>\r\n",
       "<path fill=\"none\" stroke=\"black\" d=\"M508.305,-341.907C493.129,-329.99 476.554,-316.976 461.456,-305.12\"/>\r\n",
       "<polygon fill=\"black\" stroke=\"black\" points=\"463.265,-302.09 453.238,-298.667 458.942,-307.596 463.265,-302.09\"/>\r\n",
       "</g>\r\n",
       "<!-- 11 -->\r\n",
       "<g id=\"node12\" class=\"node\"><title>11</title>\r\n",
       "<polygon fill=\"#e58139\" fill-opacity=\"0.800000\" stroke=\"black\" points=\"636.5,-306 485.5,-306 485.5,-223 636.5,-223 636.5,-306\"/>\r\n",
       "<text text-anchor=\"middle\" x=\"561\" y=\"-290.8\" font-family=\"Times New Roman,serif\" font-size=\"14.00\">sepal width (cm) &lt;= 3.2</text>\r\n",
       "<text text-anchor=\"middle\" x=\"561\" y=\"-275.8\" font-family=\"Times New Roman,serif\" font-size=\"14.00\">gini = 0.278</text>\r\n",
       "<text text-anchor=\"middle\" x=\"561\" y=\"-260.8\" font-family=\"Times New Roman,serif\" font-size=\"14.00\">samples = 6</text>\r\n",
       "<text text-anchor=\"middle\" x=\"561\" y=\"-245.8\" font-family=\"Times New Roman,serif\" font-size=\"14.00\">value = [5, 1, 0]</text>\r\n",
       "<text text-anchor=\"middle\" x=\"561\" y=\"-230.8\" font-family=\"Times New Roman,serif\" font-size=\"14.00\">class = setosa</text>\r\n",
       "</g>\r\n",
       "<!-- 9&#45;&gt;11 -->\r\n",
       "<g id=\"edge11\" class=\"edge\"><title>9&#45;&gt;11</title>\r\n",
       "<path fill=\"none\" stroke=\"black\" d=\"M560.347,-341.907C560.418,-333.649 560.493,-324.864 560.566,-316.302\"/>\r\n",
       "<polygon fill=\"black\" stroke=\"black\" points=\"564.068,-316.05 560.654,-306.021 557.068,-315.99 564.068,-316.05\"/>\r\n",
       "</g>\r\n",
       "<!-- 12 -->\r\n",
       "<g id=\"node13\" class=\"node\"><title>12</title>\r\n",
       "<polygon fill=\"#39e581\" stroke=\"black\" points=\"490,-179.5 374,-179.5 374,-111.5 490,-111.5 490,-179.5\"/>\r\n",
       "<text text-anchor=\"middle\" x=\"432\" y=\"-164.3\" font-family=\"Times New Roman,serif\" font-size=\"14.00\">gini = 0.0</text>\r\n",
       "<text text-anchor=\"middle\" x=\"432\" y=\"-149.3\" font-family=\"Times New Roman,serif\" font-size=\"14.00\">samples = 1</text>\r\n",
       "<text text-anchor=\"middle\" x=\"432\" y=\"-134.3\" font-family=\"Times New Roman,serif\" font-size=\"14.00\">value = [0, 1, 0]</text>\r\n",
       "<text text-anchor=\"middle\" x=\"432\" y=\"-119.3\" font-family=\"Times New Roman,serif\" font-size=\"14.00\">class = versicolor</text>\r\n",
       "</g>\r\n",
       "<!-- 11&#45;&gt;12 -->\r\n",
       "<g id=\"edge12\" class=\"edge\"><title>11&#45;&gt;12</title>\r\n",
       "<path fill=\"none\" stroke=\"black\" d=\"M516.244,-222.907C503.226,-211.101 489.021,-198.217 476.047,-186.45\"/>\r\n",
       "<polygon fill=\"black\" stroke=\"black\" points=\"478.327,-183.793 468.569,-179.667 473.625,-188.978 478.327,-183.793\"/>\r\n",
       "</g>\r\n",
       "<!-- 13 -->\r\n",
       "<g id=\"node14\" class=\"node\"><title>13</title>\r\n",
       "<polygon fill=\"#e58139\" stroke=\"black\" points=\"613.5,-179.5 508.5,-179.5 508.5,-111.5 613.5,-111.5 613.5,-179.5\"/>\r\n",
       "<text text-anchor=\"middle\" x=\"561\" y=\"-164.3\" font-family=\"Times New Roman,serif\" font-size=\"14.00\">gini = 0.0</text>\r\n",
       "<text text-anchor=\"middle\" x=\"561\" y=\"-149.3\" font-family=\"Times New Roman,serif\" font-size=\"14.00\">samples = 5</text>\r\n",
       "<text text-anchor=\"middle\" x=\"561\" y=\"-134.3\" font-family=\"Times New Roman,serif\" font-size=\"14.00\">value = [5, 0, 0]</text>\r\n",
       "<text text-anchor=\"middle\" x=\"561\" y=\"-119.3\" font-family=\"Times New Roman,serif\" font-size=\"14.00\">class = setosa</text>\r\n",
       "</g>\r\n",
       "<!-- 11&#45;&gt;13 -->\r\n",
       "<g id=\"edge13\" class=\"edge\"><title>11&#45;&gt;13</title>\r\n",
       "<path fill=\"none\" stroke=\"black\" d=\"M561,-222.907C561,-212.204 561,-200.615 561,-189.776\"/>\r\n",
       "<polygon fill=\"black\" stroke=\"black\" points=\"564.5,-189.667 561,-179.667 557.5,-189.667 564.5,-189.667\"/>\r\n",
       "</g>\r\n",
       "<!-- 15 -->\r\n",
       "<g id=\"node16\" class=\"node\"><title>15</title>\r\n",
       "<polygon fill=\"#39e581\" fill-opacity=\"0.545098\" stroke=\"black\" points=\"818,-425 660,-425 660,-342 818,-342 818,-425\"/>\r\n",
       "<text text-anchor=\"middle\" x=\"739\" y=\"-409.8\" font-family=\"Times New Roman,serif\" font-size=\"14.00\">sepal width (cm) &lt;= 3.45</text>\r\n",
       "<text text-anchor=\"middle\" x=\"739\" y=\"-394.8\" font-family=\"Times New Roman,serif\" font-size=\"14.00\">gini = 0.508</text>\r\n",
       "<text text-anchor=\"middle\" x=\"739\" y=\"-379.8\" font-family=\"Times New Roman,serif\" font-size=\"14.00\">samples = 43</text>\r\n",
       "<text text-anchor=\"middle\" x=\"739\" y=\"-364.8\" font-family=\"Times New Roman,serif\" font-size=\"14.00\">value = [5, 28, 10]</text>\r\n",
       "<text text-anchor=\"middle\" x=\"739\" y=\"-349.8\" font-family=\"Times New Roman,serif\" font-size=\"14.00\">class = versicolor</text>\r\n",
       "</g>\r\n",
       "<!-- 14&#45;&gt;15 -->\r\n",
       "<g id=\"edge15\" class=\"edge\"><title>14&#45;&gt;15</title>\r\n",
       "<path fill=\"none\" stroke=\"black\" d=\"M739,-460.907C739,-452.649 739,-443.864 739,-435.302\"/>\r\n",
       "<polygon fill=\"black\" stroke=\"black\" points=\"742.5,-435.021 739,-425.021 735.5,-435.021 742.5,-435.021\"/>\r\n",
       "</g>\r\n",
       "<!-- 24 -->\r\n",
       "<g id=\"node25\" class=\"node\"><title>24</title>\r\n",
       "<polygon fill=\"#8139e5\" fill-opacity=\"0.588235\" stroke=\"black\" points=\"1118,-425 958,-425 958,-342 1118,-342 1118,-425\"/>\r\n",
       "<text text-anchor=\"middle\" x=\"1038\" y=\"-409.8\" font-family=\"Times New Roman,serif\" font-size=\"14.00\">sepal length (cm) &lt;= 7.05</text>\r\n",
       "<text text-anchor=\"middle\" x=\"1038\" y=\"-394.8\" font-family=\"Times New Roman,serif\" font-size=\"14.00\">gini = 0.413</text>\r\n",
       "<text text-anchor=\"middle\" x=\"1038\" y=\"-379.8\" font-family=\"Times New Roman,serif\" font-size=\"14.00\">samples = 55</text>\r\n",
       "<text text-anchor=\"middle\" x=\"1038\" y=\"-364.8\" font-family=\"Times New Roman,serif\" font-size=\"14.00\">value = [0, 16, 39]</text>\r\n",
       "<text text-anchor=\"middle\" x=\"1038\" y=\"-349.8\" font-family=\"Times New Roman,serif\" font-size=\"14.00\">class = virginica</text>\r\n",
       "</g>\r\n",
       "<!-- 14&#45;&gt;24 -->\r\n",
       "<g id=\"edge24\" class=\"edge\"><title>14&#45;&gt;24</title>\r\n",
       "<path fill=\"none\" stroke=\"black\" d=\"M819.127,-470.146C859.006,-454.541 907.349,-435.624 948.447,-419.542\"/>\r\n",
       "<polygon fill=\"black\" stroke=\"black\" points=\"949.875,-422.742 957.912,-415.839 947.324,-416.224 949.875,-422.742\"/>\r\n",
       "</g>\r\n",
       "<!-- 16 -->\r\n",
       "<g id=\"node17\" class=\"node\"><title>16</title>\r\n",
       "<polygon fill=\"#39e581\" fill-opacity=\"0.643137\" stroke=\"black\" points=\"817,-306 657,-306 657,-223 817,-223 817,-306\"/>\r\n",
       "<text text-anchor=\"middle\" x=\"737\" y=\"-290.8\" font-family=\"Times New Roman,serif\" font-size=\"14.00\">sepal length (cm) &lt;= 5.75</text>\r\n",
       "<text text-anchor=\"middle\" x=\"737\" y=\"-275.8\" font-family=\"Times New Roman,serif\" font-size=\"14.00\">gini = 0.388</text>\r\n",
       "<text text-anchor=\"middle\" x=\"737\" y=\"-260.8\" font-family=\"Times New Roman,serif\" font-size=\"14.00\">samples = 38</text>\r\n",
       "<text text-anchor=\"middle\" x=\"737\" y=\"-245.8\" font-family=\"Times New Roman,serif\" font-size=\"14.00\">value = [0, 28, 10]</text>\r\n",
       "<text text-anchor=\"middle\" x=\"737\" y=\"-230.8\" font-family=\"Times New Roman,serif\" font-size=\"14.00\">class = versicolor</text>\r\n",
       "</g>\r\n",
       "<!-- 15&#45;&gt;16 -->\r\n",
       "<g id=\"edge16\" class=\"edge\"><title>15&#45;&gt;16</title>\r\n",
       "<path fill=\"none\" stroke=\"black\" d=\"M738.306,-341.907C738.163,-333.558 738.011,-324.671 737.864,-316.02\"/>\r\n",
       "<polygon fill=\"black\" stroke=\"black\" points=\"741.363,-315.959 737.693,-306.021 734.364,-316.079 741.363,-315.959\"/>\r\n",
       "</g>\r\n",
       "<!-- 23 -->\r\n",
       "<g id=\"node24\" class=\"node\"><title>23</title>\r\n",
       "<polygon fill=\"#e58139\" stroke=\"black\" points=\"940.5,-298.5 835.5,-298.5 835.5,-230.5 940.5,-230.5 940.5,-298.5\"/>\r\n",
       "<text text-anchor=\"middle\" x=\"888\" y=\"-283.3\" font-family=\"Times New Roman,serif\" font-size=\"14.00\">gini = 0.0</text>\r\n",
       "<text text-anchor=\"middle\" x=\"888\" y=\"-268.3\" font-family=\"Times New Roman,serif\" font-size=\"14.00\">samples = 5</text>\r\n",
       "<text text-anchor=\"middle\" x=\"888\" y=\"-253.3\" font-family=\"Times New Roman,serif\" font-size=\"14.00\">value = [5, 0, 0]</text>\r\n",
       "<text text-anchor=\"middle\" x=\"888\" y=\"-238.3\" font-family=\"Times New Roman,serif\" font-size=\"14.00\">class = setosa</text>\r\n",
       "</g>\r\n",
       "<!-- 15&#45;&gt;23 -->\r\n",
       "<g id=\"edge23\" class=\"edge\"><title>15&#45;&gt;23</title>\r\n",
       "<path fill=\"none\" stroke=\"black\" d=\"M790.695,-341.907C805.871,-329.99 822.446,-316.976 837.544,-305.12\"/>\r\n",
       "<polygon fill=\"black\" stroke=\"black\" points=\"840.058,-307.596 845.762,-298.667 835.735,-302.09 840.058,-307.596\"/>\r\n",
       "</g>\r\n",
       "<!-- 17 -->\r\n",
       "<g id=\"node18\" class=\"node\"><title>17</title>\r\n",
       "<polygon fill=\"#39e581\" fill-opacity=\"0.866667\" stroke=\"black\" points=\"792,-187 632,-187 632,-104 792,-104 792,-187\"/>\r\n",
       "<text text-anchor=\"middle\" x=\"712\" y=\"-171.8\" font-family=\"Times New Roman,serif\" font-size=\"14.00\">sepal length (cm) &lt;= 5.55</text>\r\n",
       "<text text-anchor=\"middle\" x=\"712\" y=\"-156.8\" font-family=\"Times New Roman,serif\" font-size=\"14.00\">gini = 0.208</text>\r\n",
       "<text text-anchor=\"middle\" x=\"712\" y=\"-141.8\" font-family=\"Times New Roman,serif\" font-size=\"14.00\">samples = 17</text>\r\n",
       "<text text-anchor=\"middle\" x=\"712\" y=\"-126.8\" font-family=\"Times New Roman,serif\" font-size=\"14.00\">value = [0, 15, 2]</text>\r\n",
       "<text text-anchor=\"middle\" x=\"712\" y=\"-111.8\" font-family=\"Times New Roman,serif\" font-size=\"14.00\">class = versicolor</text>\r\n",
       "</g>\r\n",
       "<!-- 16&#45;&gt;17 -->\r\n",
       "<g id=\"edge17\" class=\"edge\"><title>16&#45;&gt;17</title>\r\n",
       "<path fill=\"none\" stroke=\"black\" d=\"M728.326,-222.907C726.542,-214.558 724.643,-205.671 722.795,-197.02\"/>\r\n",
       "<polygon fill=\"black\" stroke=\"black\" points=\"726.171,-196.069 720.658,-187.021 719.325,-197.531 726.171,-196.069\"/>\r\n",
       "</g>\r\n",
       "<!-- 20 -->\r\n",
       "<g id=\"node21\" class=\"node\"><title>20</title>\r\n",
       "<polygon fill=\"#39e581\" fill-opacity=\"0.384314\" stroke=\"black\" points=\"961.5,-187 810.5,-187 810.5,-104 961.5,-104 961.5,-187\"/>\r\n",
       "<text text-anchor=\"middle\" x=\"886\" y=\"-171.8\" font-family=\"Times New Roman,serif\" font-size=\"14.00\">sepal width (cm) &lt;= 3.1</text>\r\n",
       "<text text-anchor=\"middle\" x=\"886\" y=\"-156.8\" font-family=\"Times New Roman,serif\" font-size=\"14.00\">gini = 0.472</text>\r\n",
       "<text text-anchor=\"middle\" x=\"886\" y=\"-141.8\" font-family=\"Times New Roman,serif\" font-size=\"14.00\">samples = 21</text>\r\n",
       "<text text-anchor=\"middle\" x=\"886\" y=\"-126.8\" font-family=\"Times New Roman,serif\" font-size=\"14.00\">value = [0, 13, 8]</text>\r\n",
       "<text text-anchor=\"middle\" x=\"886\" y=\"-111.8\" font-family=\"Times New Roman,serif\" font-size=\"14.00\">class = versicolor</text>\r\n",
       "</g>\r\n",
       "<!-- 16&#45;&gt;20 -->\r\n",
       "<g id=\"edge20\" class=\"edge\"><title>16&#45;&gt;20</title>\r\n",
       "<path fill=\"none\" stroke=\"black\" d=\"M788.695,-222.907C800.83,-213.379 813.858,-203.148 826.311,-193.37\"/>\r\n",
       "<polygon fill=\"black\" stroke=\"black\" points=\"828.693,-195.949 834.397,-187.021 824.37,-190.444 828.693,-195.949\"/>\r\n",
       "</g>\r\n",
       "<!-- 18 -->\r\n",
       "<g id=\"node19\" class=\"node\"><title>18</title>\r\n",
       "<polygon fill=\"#39e581\" stroke=\"black\" points=\"646,-68 530,-68 530,-0 646,-0 646,-68\"/>\r\n",
       "<text text-anchor=\"middle\" x=\"588\" y=\"-52.8\" font-family=\"Times New Roman,serif\" font-size=\"14.00\">gini = 0.0</text>\r\n",
       "<text text-anchor=\"middle\" x=\"588\" y=\"-37.8\" font-family=\"Times New Roman,serif\" font-size=\"14.00\">samples = 5</text>\r\n",
       "<text text-anchor=\"middle\" x=\"588\" y=\"-22.8\" font-family=\"Times New Roman,serif\" font-size=\"14.00\">value = [0, 5, 0]</text>\r\n",
       "<text text-anchor=\"middle\" x=\"588\" y=\"-7.8\" font-family=\"Times New Roman,serif\" font-size=\"14.00\">class = versicolor</text>\r\n",
       "</g>\r\n",
       "<!-- 17&#45;&gt;18 -->\r\n",
       "<g id=\"edge18\" class=\"edge\"><title>17&#45;&gt;18</title>\r\n",
       "<path fill=\"none\" stroke=\"black\" d=\"M665.827,-103.726C655.189,-94.3318 643.884,-84.349 633.284,-74.9883\"/>\r\n",
       "<polygon fill=\"black\" stroke=\"black\" points=\"635.522,-72.2953 625.709,-68.2996 630.888,-77.5424 635.522,-72.2953\"/>\r\n",
       "</g>\r\n",
       "<!-- 19 -->\r\n",
       "<g id=\"node20\" class=\"node\"><title>19</title>\r\n",
       "<polygon fill=\"#39e581\" fill-opacity=\"0.800000\" stroke=\"black\" points=\"780,-68 664,-68 664,-0 780,-0 780,-68\"/>\r\n",
       "<text text-anchor=\"middle\" x=\"722\" y=\"-52.8\" font-family=\"Times New Roman,serif\" font-size=\"14.00\">gini = 0.278</text>\r\n",
       "<text text-anchor=\"middle\" x=\"722\" y=\"-37.8\" font-family=\"Times New Roman,serif\" font-size=\"14.00\">samples = 12</text>\r\n",
       "<text text-anchor=\"middle\" x=\"722\" y=\"-22.8\" font-family=\"Times New Roman,serif\" font-size=\"14.00\">value = [0, 10, 2]</text>\r\n",
       "<text text-anchor=\"middle\" x=\"722\" y=\"-7.8\" font-family=\"Times New Roman,serif\" font-size=\"14.00\">class = versicolor</text>\r\n",
       "</g>\r\n",
       "<!-- 17&#45;&gt;19 -->\r\n",
       "<g id=\"edge19\" class=\"edge\"><title>17&#45;&gt;19</title>\r\n",
       "<path fill=\"none\" stroke=\"black\" d=\"M715.724,-103.726C716.482,-95.4263 717.282,-86.6671 718.047,-78.2834\"/>\r\n",
       "<polygon fill=\"black\" stroke=\"black\" points=\"721.535,-78.5765 718.959,-68.2996 714.564,-77.9398 721.535,-78.5765\"/>\r\n",
       "</g>\r\n",
       "<!-- 21 -->\r\n",
       "<g id=\"node22\" class=\"node\"><title>21</title>\r\n",
       "<polygon fill=\"#39e581\" fill-opacity=\"0.274510\" stroke=\"black\" points=\"933,-68 817,-68 817,-0 933,-0 933,-68\"/>\r\n",
       "<text text-anchor=\"middle\" x=\"875\" y=\"-52.8\" font-family=\"Times New Roman,serif\" font-size=\"14.00\">gini = 0.488</text>\r\n",
       "<text text-anchor=\"middle\" x=\"875\" y=\"-37.8\" font-family=\"Times New Roman,serif\" font-size=\"14.00\">samples = 19</text>\r\n",
       "<text text-anchor=\"middle\" x=\"875\" y=\"-22.8\" font-family=\"Times New Roman,serif\" font-size=\"14.00\">value = [0, 11, 8]</text>\r\n",
       "<text text-anchor=\"middle\" x=\"875\" y=\"-7.8\" font-family=\"Times New Roman,serif\" font-size=\"14.00\">class = versicolor</text>\r\n",
       "</g>\r\n",
       "<!-- 20&#45;&gt;21 -->\r\n",
       "<g id=\"edge21\" class=\"edge\"><title>20&#45;&gt;21</title>\r\n",
       "<path fill=\"none\" stroke=\"black\" d=\"M881.904,-103.726C881.07,-95.4263 880.19,-86.6671 879.348,-78.2834\"/>\r\n",
       "<polygon fill=\"black\" stroke=\"black\" points=\"882.827,-77.8997 878.345,-68.2996 875.862,-78.5994 882.827,-77.8997\"/>\r\n",
       "</g>\r\n",
       "<!-- 22 -->\r\n",
       "<g id=\"node23\" class=\"node\"><title>22</title>\r\n",
       "<polygon fill=\"#39e581\" stroke=\"black\" points=\"1067,-68 951,-68 951,-0 1067,-0 1067,-68\"/>\r\n",
       "<text text-anchor=\"middle\" x=\"1009\" y=\"-52.8\" font-family=\"Times New Roman,serif\" font-size=\"14.00\">gini = 0.0</text>\r\n",
       "<text text-anchor=\"middle\" x=\"1009\" y=\"-37.8\" font-family=\"Times New Roman,serif\" font-size=\"14.00\">samples = 2</text>\r\n",
       "<text text-anchor=\"middle\" x=\"1009\" y=\"-22.8\" font-family=\"Times New Roman,serif\" font-size=\"14.00\">value = [0, 2, 0]</text>\r\n",
       "<text text-anchor=\"middle\" x=\"1009\" y=\"-7.8\" font-family=\"Times New Roman,serif\" font-size=\"14.00\">class = versicolor</text>\r\n",
       "</g>\r\n",
       "<!-- 20&#45;&gt;22 -->\r\n",
       "<g id=\"edge22\" class=\"edge\"><title>20&#45;&gt;22</title>\r\n",
       "<path fill=\"none\" stroke=\"black\" d=\"M931.801,-103.726C942.353,-94.3318 953.567,-84.349 964.082,-74.9883\"/>\r\n",
       "<polygon fill=\"black\" stroke=\"black\" points=\"966.453,-77.5631 971.595,-68.2996 961.799,-72.3347 966.453,-77.5631\"/>\r\n",
       "</g>\r\n",
       "<!-- 25 -->\r\n",
       "<g id=\"node26\" class=\"node\"><title>25</title>\r\n",
       "<polygon fill=\"#8139e5\" fill-opacity=\"0.407843\" stroke=\"black\" points=\"1113.5,-306 962.5,-306 962.5,-223 1113.5,-223 1113.5,-306\"/>\r\n",
       "<text text-anchor=\"middle\" x=\"1038\" y=\"-290.8\" font-family=\"Times New Roman,serif\" font-size=\"14.00\">sepal width (cm) &lt;= 2.4</text>\r\n",
       "<text text-anchor=\"middle\" x=\"1038\" y=\"-275.8\" font-family=\"Times New Roman,serif\" font-size=\"14.00\">gini = 0.467</text>\r\n",
       "<text text-anchor=\"middle\" x=\"1038\" y=\"-260.8\" font-family=\"Times New Roman,serif\" font-size=\"14.00\">samples = 43</text>\r\n",
       "<text text-anchor=\"middle\" x=\"1038\" y=\"-245.8\" font-family=\"Times New Roman,serif\" font-size=\"14.00\">value = [0, 16, 27]</text>\r\n",
       "<text text-anchor=\"middle\" x=\"1038\" y=\"-230.8\" font-family=\"Times New Roman,serif\" font-size=\"14.00\">class = virginica</text>\r\n",
       "</g>\r\n",
       "<!-- 24&#45;&gt;25 -->\r\n",
       "<g id=\"edge25\" class=\"edge\"><title>24&#45;&gt;25</title>\r\n",
       "<path fill=\"none\" stroke=\"black\" d=\"M1038,-341.907C1038,-333.649 1038,-324.864 1038,-316.302\"/>\r\n",
       "<polygon fill=\"black\" stroke=\"black\" points=\"1041.5,-316.021 1038,-306.021 1034.5,-316.021 1041.5,-316.021\"/>\r\n",
       "</g>\r\n",
       "<!-- 30 -->\r\n",
       "<g id=\"node31\" class=\"node\"><title>30</title>\r\n",
       "<polygon fill=\"#8139e5\" stroke=\"black\" points=\"1244,-298.5 1132,-298.5 1132,-230.5 1244,-230.5 1244,-298.5\"/>\r\n",
       "<text text-anchor=\"middle\" x=\"1188\" y=\"-283.3\" font-family=\"Times New Roman,serif\" font-size=\"14.00\">gini = 0.0</text>\r\n",
       "<text text-anchor=\"middle\" x=\"1188\" y=\"-268.3\" font-family=\"Times New Roman,serif\" font-size=\"14.00\">samples = 12</text>\r\n",
       "<text text-anchor=\"middle\" x=\"1188\" y=\"-253.3\" font-family=\"Times New Roman,serif\" font-size=\"14.00\">value = [0, 0, 12]</text>\r\n",
       "<text text-anchor=\"middle\" x=\"1188\" y=\"-238.3\" font-family=\"Times New Roman,serif\" font-size=\"14.00\">class = virginica</text>\r\n",
       "</g>\r\n",
       "<!-- 24&#45;&gt;30 -->\r\n",
       "<g id=\"edge30\" class=\"edge\"><title>24&#45;&gt;30</title>\r\n",
       "<path fill=\"none\" stroke=\"black\" d=\"M1090.04,-341.907C1105.32,-329.99 1122.01,-316.976 1137.21,-305.12\"/>\r\n",
       "<polygon fill=\"black\" stroke=\"black\" points=\"1139.75,-307.577 1145.48,-298.667 1135.44,-302.058 1139.75,-307.577\"/>\r\n",
       "</g>\r\n",
       "<!-- 26 -->\r\n",
       "<g id=\"node27\" class=\"node\"><title>26</title>\r\n",
       "<polygon fill=\"#39e581\" stroke=\"black\" points=\"1096,-179.5 980,-179.5 980,-111.5 1096,-111.5 1096,-179.5\"/>\r\n",
       "<text text-anchor=\"middle\" x=\"1038\" y=\"-164.3\" font-family=\"Times New Roman,serif\" font-size=\"14.00\">gini = 0.0</text>\r\n",
       "<text text-anchor=\"middle\" x=\"1038\" y=\"-149.3\" font-family=\"Times New Roman,serif\" font-size=\"14.00\">samples = 2</text>\r\n",
       "<text text-anchor=\"middle\" x=\"1038\" y=\"-134.3\" font-family=\"Times New Roman,serif\" font-size=\"14.00\">value = [0, 2, 0]</text>\r\n",
       "<text text-anchor=\"middle\" x=\"1038\" y=\"-119.3\" font-family=\"Times New Roman,serif\" font-size=\"14.00\">class = versicolor</text>\r\n",
       "</g>\r\n",
       "<!-- 25&#45;&gt;26 -->\r\n",
       "<g id=\"edge26\" class=\"edge\"><title>25&#45;&gt;26</title>\r\n",
       "<path fill=\"none\" stroke=\"black\" d=\"M1038,-222.907C1038,-212.204 1038,-200.615 1038,-189.776\"/>\r\n",
       "<polygon fill=\"black\" stroke=\"black\" points=\"1041.5,-189.667 1038,-179.667 1034.5,-189.667 1041.5,-189.667\"/>\r\n",
       "</g>\r\n",
       "<!-- 27 -->\r\n",
       "<g id=\"node28\" class=\"node\"><title>27</title>\r\n",
       "<polygon fill=\"#8139e5\" fill-opacity=\"0.482353\" stroke=\"black\" points=\"1274,-187 1114,-187 1114,-104 1274,-104 1274,-187\"/>\r\n",
       "<text text-anchor=\"middle\" x=\"1194\" y=\"-171.8\" font-family=\"Times New Roman,serif\" font-size=\"14.00\">sepal length (cm) &lt;= 6.95</text>\r\n",
       "<text text-anchor=\"middle\" x=\"1194\" y=\"-156.8\" font-family=\"Times New Roman,serif\" font-size=\"14.00\">gini = 0.45</text>\r\n",
       "<text text-anchor=\"middle\" x=\"1194\" y=\"-141.8\" font-family=\"Times New Roman,serif\" font-size=\"14.00\">samples = 41</text>\r\n",
       "<text text-anchor=\"middle\" x=\"1194\" y=\"-126.8\" font-family=\"Times New Roman,serif\" font-size=\"14.00\">value = [0, 14, 27]</text>\r\n",
       "<text text-anchor=\"middle\" x=\"1194\" y=\"-111.8\" font-family=\"Times New Roman,serif\" font-size=\"14.00\">class = virginica</text>\r\n",
       "</g>\r\n",
       "<!-- 25&#45;&gt;27 -->\r\n",
       "<g id=\"edge27\" class=\"edge\"><title>25&#45;&gt;27</title>\r\n",
       "<path fill=\"none\" stroke=\"black\" d=\"M1092.12,-222.907C1104.95,-213.288 1118.73,-202.953 1131.88,-193.09\"/>\r\n",
       "<polygon fill=\"black\" stroke=\"black\" points=\"1134.07,-195.821 1139.97,-187.021 1129.87,-190.221 1134.07,-195.821\"/>\r\n",
       "</g>\r\n",
       "<!-- 28 -->\r\n",
       "<g id=\"node29\" class=\"node\"><title>28</title>\r\n",
       "<polygon fill=\"#8139e5\" fill-opacity=\"0.517647\" stroke=\"black\" points=\"1243.5,-68 1124.5,-68 1124.5,-0 1243.5,-0 1243.5,-68\"/>\r\n",
       "<text text-anchor=\"middle\" x=\"1184\" y=\"-52.8\" font-family=\"Times New Roman,serif\" font-size=\"14.00\">gini = 0.439</text>\r\n",
       "<text text-anchor=\"middle\" x=\"1184\" y=\"-37.8\" font-family=\"Times New Roman,serif\" font-size=\"14.00\">samples = 40</text>\r\n",
       "<text text-anchor=\"middle\" x=\"1184\" y=\"-22.8\" font-family=\"Times New Roman,serif\" font-size=\"14.00\">value = [0, 13, 27]</text>\r\n",
       "<text text-anchor=\"middle\" x=\"1184\" y=\"-7.8\" font-family=\"Times New Roman,serif\" font-size=\"14.00\">class = virginica</text>\r\n",
       "</g>\r\n",
       "<!-- 27&#45;&gt;28 -->\r\n",
       "<g id=\"edge28\" class=\"edge\"><title>27&#45;&gt;28</title>\r\n",
       "<path fill=\"none\" stroke=\"black\" d=\"M1190.28,-103.726C1189.52,-95.4263 1188.72,-86.6671 1187.95,-78.2834\"/>\r\n",
       "<polygon fill=\"black\" stroke=\"black\" points=\"1191.44,-77.9398 1187.04,-68.2996 1184.47,-78.5765 1191.44,-77.9398\"/>\r\n",
       "</g>\r\n",
       "<!-- 29 -->\r\n",
       "<g id=\"node30\" class=\"node\"><title>29</title>\r\n",
       "<polygon fill=\"#39e581\" stroke=\"black\" points=\"1378,-68 1262,-68 1262,-0 1378,-0 1378,-68\"/>\r\n",
       "<text text-anchor=\"middle\" x=\"1320\" y=\"-52.8\" font-family=\"Times New Roman,serif\" font-size=\"14.00\">gini = 0.0</text>\r\n",
       "<text text-anchor=\"middle\" x=\"1320\" y=\"-37.8\" font-family=\"Times New Roman,serif\" font-size=\"14.00\">samples = 1</text>\r\n",
       "<text text-anchor=\"middle\" x=\"1320\" y=\"-22.8\" font-family=\"Times New Roman,serif\" font-size=\"14.00\">value = [0, 1, 0]</text>\r\n",
       "<text text-anchor=\"middle\" x=\"1320\" y=\"-7.8\" font-family=\"Times New Roman,serif\" font-size=\"14.00\">class = versicolor</text>\r\n",
       "</g>\r\n",
       "<!-- 27&#45;&gt;29 -->\r\n",
       "<g id=\"edge29\" class=\"edge\"><title>27&#45;&gt;29</title>\r\n",
       "<path fill=\"none\" stroke=\"black\" d=\"M1240.92,-103.726C1251.73,-94.3318 1263.21,-84.349 1273.99,-74.9883\"/>\r\n",
       "<polygon fill=\"black\" stroke=\"black\" points=\"1276.43,-77.501 1281.68,-68.2996 1271.84,-72.2174 1276.43,-77.501\"/>\r\n",
       "</g>\r\n",
       "</g>\r\n",
       "</svg>\r\n"
      ],
      "text/plain": [
       "<graphviz.files.Source at 0x1c9cd6ab668>"
      ]
     },
     "execution_count": 23,
     "metadata": {},
     "output_type": "execute_result"
    }
   ],
   "source": [
    "with open(\"./iris.dot\") as f:\n",
    "    dot_graph = str(open(\"./iris.dot\", \"rb\").read(), \"utf8\")\n",
    "graphviz.Source(dot_graph)"
   ]
  },
  {
   "cell_type": "markdown",
   "metadata": {},
   "source": [
    "#### UTF-8 : Universal Coded Character Set + Transformation Format – 8-bit \n",
    "- 유니코드 한 문자를 나타내기 위해 1바이트에서 4바이트까지를 사용\n",
    "- U+007F까지의 문자는 7비트 ASCII 문자와 동일한 방법으로 표시\n",
    "- 7비트 ASCII 문자와 혼동되지 않게 하기 위하여 모든 바이트들의 최상위 비트는 1이다."
   ]
  },
  {
   "cell_type": "markdown",
   "metadata": {
    "colab_type": "text",
    "id": "QxRW-8amN9r9"
   },
   "source": [
    "결정 경계선 그리기\n",
    "--"
   ]
  },
  {
   "cell_type": "code",
   "execution_count": 25,
   "metadata": {},
   "outputs": [],
   "source": [
    "import numpy as np\n",
    "import matplotlib.pyplot as plt\n",
    "%matplotlib inline"
   ]
  },
  {
   "cell_type": "code",
   "execution_count": 14,
   "metadata": {},
   "outputs": [
    {
     "data": {
      "text/plain": [
       "Text(0, 0.5, 'Sepal width')"
      ]
     },
     "execution_count": 14,
     "metadata": {},
     "output_type": "execute_result"
    },
    {
     "data": {
      "image/png": "[encoded data removed]",
      "text/plain": [
       "<Figure size 432x288 with 1 Axes>"
      ]
     },
     "metadata": {
      "needs_background": "light"
     },
     "output_type": "display_data"
    }
   ],
   "source": [
    "plt.xlim(4, 8.5)\n",
    "plt.ylim(1.5, 4.5)\n",
    "\n",
    "markers = ['o', '+', '^']\n",
    "for i in range(3):\n",
    "    xs = X[:, 0][y == i]\n",
    "    ys = X[:, 1][y == i]\n",
    "    plt.scatter(xs, ys, marker=markers[i])\n",
    "    \n",
    "plt.legend(iris.target_names)\n",
    "plt.xlabel(\"Sepal length\")\n",
    "plt.ylabel(\"Sepal width\")"
   ]
  },
  {
   "cell_type": "markdown",
   "metadata": {},
   "source": [
    "### linspace(x1,x2)\n",
    "- x1과 x2 사이에서 균일한 간격의 점 100개로 구성된 행 벡터를 반환\n",
    "- 항상 끝점을 포함\n",
    "- “linspace”의 “lin”은 선형 간격 값을 생성\n",
    "- 이는 로그 간격 값을 생성하는 형제 함수 logspace와 대조"
   ]
  },
  {
   "cell_type": "code",
   "execution_count": 19,
   "metadata": {
    "colab": {},
    "colab_type": "code",
    "id": "ARBB0fJPN9r-",
    "outputId": "7d006de2-d4cd-4d10-b9df-7dca4b32f81a",
    "scrolled": true
   },
   "outputs": [
    {
     "data": {
      "text/plain": [
       "[<matplotlib.lines.Line2D at 0x97a9fd0>]"
      ]
     },
     "execution_count": 19,
     "metadata": {},
     "output_type": "execute_result"
    },
    {
     "data": {
      "image/png": "[encoded data removed]",
      "text/plain": [
       "<Figure size 432x288 with 1 Axes>"
      ]
     },
     "metadata": {
      "needs_background": "light"
     },
     "output_type": "display_data"
    }
   ],
   "source": [
    "plt.xlim(4, 8.5)\n",
    "plt.ylim(1.5, 4.5)\n",
    "\n",
    "# 결정 트리 경계선: 실선은 루트 노드 점선은 자식 노드\n",
    "xx = np.linspace(5.45, 5.45, 3)\n",
    "yy = np.linspace(1.5, 4.5, 3)\n",
    "plt.plot(xx, yy, '-k') # 검정색 실선\n",
    "\n",
    "xx = np.linspace(4, 5.45, 3)\n",
    "yy = np.linspace(2.8, 2.8, 3)\n",
    "plt.plot(xx, yy, '--b') # 파란색 점선\n",
    "\n",
    "xx = np.linspace(6.15, 6.15, 3)\n",
    "yy = np.linspace(1.5, 4.5, 3)\n",
    "plt.plot(xx, yy, '--r') # 붉은색 점선\n"
   ]
  },
  {
   "cell_type": "code",
   "execution_count": 15,
   "metadata": {},
   "outputs": [
    {
     "data": {
      "text/plain": [
       "[<matplotlib.lines.Line2D at 0x20587844f60>]"
      ]
     },
     "execution_count": 15,
     "metadata": {},
     "output_type": "execute_result"
    },
    {
     "data": {
      "image/png": "[encoded data removed]",
      "text/plain": [
       "<Figure size 432x288 with 1 Axes>"
      ]
     },
     "metadata": {
      "needs_background": "light"
     },
     "output_type": "display_data"
    }
   ],
   "source": [
    "# 데이터의 표현\n",
    "plt.xlim(4, 8.5)\n",
    "plt.ylim(1.5, 4.5)\n",
    "\n",
    "markers = ['o', '+', '^']\n",
    "for i in range(3):\n",
    "    xs = X[:, 0][y == i]\n",
    "    ys = X[:, 1][y == i]\n",
    "    plt.scatter(xs, ys, marker=markers[i])\n",
    "    \n",
    "plt.legend(iris.target_names)\n",
    "plt.xlabel(\"Sepal length\")\n",
    "plt.ylabel(\"Sepal width\")\n",
    "\n",
    "# 결정 트리 경계선: 실선은 루트 노드 점선은 자식 노드\n",
    "xx = np.linspace(5.45, 5.45, 3)\n",
    "yy = np.linspace(1.5, 4.5, 3)\n",
    "plt.plot(xx, yy, '-k') # 검정색 실선\n",
    "\n",
    "xx = np.linspace(4, 5.45, 3)\n",
    "yy = np.linspace(2.8, 2.8, 3)\n",
    "plt.plot(xx, yy, '--b') # 파란색 점선\n",
    "\n",
    "xx = np.linspace(6.15, 6.15, 3)\n",
    "yy = np.linspace(1.5, 4.5, 3)\n",
    "plt.plot(xx, yy, '--r') # 붉은색 점선"
   ]
  },
  {
   "cell_type": "markdown",
   "metadata": {},
   "source": [
    "### 학습된 결정 트리를 이용\n",
    "### 임의의 샘플에 대하여, 어느 Class에 속할 지 예측\n",
    "- predict() "
   ]
  },
  {
   "cell_type": "code",
   "execution_count": 16,
   "metadata": {
    "colab": {},
    "colab_type": "code",
    "id": "aVOw8N1sN9sC",
    "outputId": "1235d242-eac6-4397-a19d-ea7e74178559"
   },
   "outputs": [
    {
     "name": "stdout",
     "output_type": "stream",
     "text": [
      "[1]\n"
     ]
    }
   ],
   "source": [
    "print(clf.predict([[5.5, 4]]))"
   ]
  },
  {
   "cell_type": "markdown",
   "metadata": {},
   "source": [
    "### 모든 Class에 속할 확률 계산\n",
    "- predict_proba()\n",
    "- 이러한 값을 이용하여 soft voting을 도입하면 보다 정확한 다중 분류 수행 가능"
   ]
  },
  {
   "cell_type": "code",
   "execution_count": 17,
   "metadata": {
    "colab": {},
    "colab_type": "code",
    "id": "qsQnDe9TN9sI",
    "outputId": "67cfb37a-5002-4473-9cbf-88eacb41d0ac",
    "scrolled": false
   },
   "outputs": [
    {
     "name": "stdout",
     "output_type": "stream",
     "text": [
      "[[0.11627907 0.65116279 0.23255814]]\n"
     ]
    }
   ],
   "source": [
    "print(clf.predict_proba([[5.5, 4]]))"
   ]
  },
  {
   "cell_type": "markdown",
   "metadata": {
    "colab_type": "text",
    "id": "ArMKRYIqN9sM"
   },
   "source": [
    "## 트리 내부 변수\n",
    "### 유방암 분류\n",
    "- 진단 결과 : M (악성, malignant), B (양성, benign)"
   ]
  },
  {
   "cell_type": "code",
   "execution_count": 28,
   "metadata": {
    "colab": {},
    "colab_type": "code",
    "id": "wtGHC8gsN9sN"
   },
   "outputs": [],
   "source": [
    "from sklearn.datasets import load_breast_cancer\n",
    "from sklearn.tree import DecisionTreeClassifier\n",
    "from sklearn.ensemble import RandomForestClassifier \n",
    "from sklearn.model_selection import train_test_split \n",
    "import matplotlib.pyplot as plt\n",
    "import numpy as np\n",
    "import pandas as pd"
   ]
  },
  {
   "cell_type": "code",
   "execution_count": 29,
   "metadata": {
    "colab": {},
    "colab_type": "code",
    "id": "6PX_5WDeN9sP"
   },
   "outputs": [],
   "source": [
    "cancer = load_breast_cancer() "
   ]
  },
  {
   "cell_type": "markdown",
   "metadata": {},
   "source": [
    "- 입력 데이터 : cancer.data\n",
    "- 레이블 데이터 : cancer.target"
   ]
  },
  {
   "cell_type": "code",
   "execution_count": 30,
   "metadata": {},
   "outputs": [
    {
     "data": {
      "text/plain": [
       "(569, 30)"
      ]
     },
     "execution_count": 30,
     "metadata": {},
     "output_type": "execute_result"
    }
   ],
   "source": [
    "cancer.data.shape"
   ]
  },
  {
   "cell_type": "code",
   "execution_count": 31,
   "metadata": {},
   "outputs": [
    {
     "data": {
      "text/plain": [
       "array(['mean radius', 'mean texture', 'mean perimeter', 'mean area',\n",
       "       'mean smoothness', 'mean compactness', 'mean concavity',\n",
       "       'mean concave points', 'mean symmetry', 'mean fractal dimension',\n",
       "       'radius error', 'texture error', 'perimeter error', 'area error',\n",
       "       'smoothness error', 'compactness error', 'concavity error',\n",
       "       'concave points error', 'symmetry error',\n",
       "       'fractal dimension error', 'worst radius', 'worst texture',\n",
       "       'worst perimeter', 'worst area', 'worst smoothness',\n",
       "       'worst compactness', 'worst concavity', 'worst concave points',\n",
       "       'worst symmetry', 'worst fractal dimension'], dtype='<U23')"
      ]
     },
     "execution_count": 31,
     "metadata": {},
     "output_type": "execute_result"
    }
   ],
   "source": [
    "cancer.feature_names"
   ]
  },
  {
   "cell_type": "code",
   "execution_count": 32,
   "metadata": {
    "colab": {},
    "colab_type": "code",
    "collapsed": true,
    "id": "IzCnJtR-N9sR",
    "outputId": "40f648d4-2f6a-47b0-d296-5c6b6cb38c2a"
   },
   "outputs": [
    {
     "data": {
      "text/plain": [
       "array([0, 0, 0, 0, 0, 0, 0, 0, 0, 0, 0, 0, 0, 0, 0, 0, 0, 0, 0, 1, 1, 1,\n",
       "       0, 0, 0, 0, 0, 0, 0, 0, 0, 0, 0, 0, 0, 0, 0, 1, 0, 0, 0, 0, 0, 0,\n",
       "       0, 0, 1, 0, 1, 1, 1, 1, 1, 0, 0, 1, 0, 0, 1, 1, 1, 1, 0, 1, 0, 0,\n",
       "       1, 1, 1, 1, 0, 1, 0, 0, 1, 0, 1, 0, 0, 1, 1, 1, 0, 0, 1, 0, 0, 0,\n",
       "       1, 1, 1, 0, 1, 1, 0, 0, 1, 1, 1, 0, 0, 1, 1, 1, 1, 0, 1, 1, 0, 1,\n",
       "       1, 1, 1, 1, 1, 1, 1, 0, 0, 0, 1, 0, 0, 1, 1, 1, 0, 0, 1, 0, 1, 0,\n",
       "       0, 1, 0, 0, 1, 1, 0, 1, 1, 0, 1, 1, 1, 1, 0, 1, 1, 1, 1, 1, 1, 1,\n",
       "       1, 1, 0, 1, 1, 1, 1, 0, 0, 1, 0, 1, 1, 0, 0, 1, 1, 0, 0, 1, 1, 1,\n",
       "       1, 0, 1, 1, 0, 0, 0, 1, 0, 1, 0, 1, 1, 1, 0, 1, 1, 0, 0, 1, 0, 0,\n",
       "       0, 0, 1, 0, 0, 0, 1, 0, 1, 0, 1, 1, 0, 1, 0, 0, 0, 0, 1, 1, 0, 0,\n",
       "       1, 1, 1, 0, 1, 1, 1, 1, 1, 0, 0, 1, 1, 0, 1, 1, 0, 0, 1, 0, 1, 1,\n",
       "       1, 1, 0, 1, 1, 1, 1, 1, 0, 1, 0, 0, 0, 0, 0, 0, 0, 0, 0, 0, 0, 0,\n",
       "       0, 0, 1, 1, 1, 1, 1, 1, 0, 1, 0, 1, 1, 0, 1, 1, 0, 1, 0, 0, 1, 1,\n",
       "       1, 1, 1, 1, 1, 1, 1, 1, 1, 1, 1, 0, 1, 1, 0, 1, 0, 1, 1, 1, 1, 1,\n",
       "       1, 1, 1, 1, 1, 1, 1, 1, 1, 0, 1, 1, 1, 0, 1, 0, 1, 1, 1, 1, 0, 0,\n",
       "       0, 1, 1, 1, 1, 0, 1, 0, 1, 0, 1, 1, 1, 0, 1, 1, 1, 1, 1, 1, 1, 0,\n",
       "       0, 0, 1, 1, 1, 1, 1, 1, 1, 1, 1, 1, 1, 0, 0, 1, 0, 0, 0, 1, 0, 0,\n",
       "       1, 1, 1, 1, 1, 0, 1, 1, 1, 1, 1, 0, 1, 1, 1, 0, 1, 1, 0, 0, 1, 1,\n",
       "       1, 1, 1, 1, 0, 1, 1, 1, 1, 1, 1, 1, 0, 1, 1, 1, 1, 1, 0, 1, 1, 0,\n",
       "       1, 1, 1, 1, 1, 1, 1, 1, 1, 1, 1, 1, 0, 1, 0, 0, 1, 0, 1, 1, 1, 1,\n",
       "       1, 0, 1, 1, 0, 1, 0, 1, 1, 0, 1, 0, 1, 1, 1, 1, 1, 1, 1, 1, 0, 0,\n",
       "       1, 1, 1, 1, 1, 1, 0, 1, 1, 1, 1, 1, 1, 1, 1, 1, 1, 0, 1, 1, 1, 1,\n",
       "       1, 1, 1, 0, 1, 0, 1, 1, 0, 1, 1, 1, 1, 1, 0, 0, 1, 0, 1, 0, 1, 1,\n",
       "       1, 1, 1, 0, 1, 1, 0, 1, 0, 1, 0, 0, 1, 1, 1, 0, 1, 1, 1, 1, 1, 1,\n",
       "       1, 1, 1, 1, 1, 0, 1, 0, 0, 1, 1, 1, 1, 1, 1, 1, 1, 1, 1, 1, 1, 1,\n",
       "       1, 1, 1, 1, 1, 1, 1, 1, 1, 1, 1, 1, 0, 0, 0, 0, 0, 0, 1])"
      ]
     },
     "execution_count": 32,
     "metadata": {},
     "output_type": "execute_result"
    }
   ],
   "source": [
    "cancer.target"
   ]
  },
  {
   "cell_type": "code",
   "execution_count": 33,
   "metadata": {
    "scrolled": true
   },
   "outputs": [
    {
     "data": {
      "text/plain": [
       "array([[1.799e+01, 1.038e+01, 1.228e+02, 1.001e+03, 1.184e-01, 2.776e-01,\n",
       "        3.001e-01, 1.471e-01, 2.419e-01, 7.871e-02, 1.095e+00, 9.053e-01,\n",
       "        8.589e+00, 1.534e+02, 6.399e-03, 4.904e-02, 5.373e-02, 1.587e-02,\n",
       "        3.003e-02, 6.193e-03, 2.538e+01, 1.733e+01, 1.846e+02, 2.019e+03,\n",
       "        1.622e-01, 6.656e-01, 7.119e-01, 2.654e-01, 4.601e-01, 1.189e-01],\n",
       "       [2.057e+01, 1.777e+01, 1.329e+02, 1.326e+03, 8.474e-02, 7.864e-02,\n",
       "        8.690e-02, 7.017e-02, 1.812e-01, 5.667e-02, 5.435e-01, 7.339e-01,\n",
       "        3.398e+00, 7.408e+01, 5.225e-03, 1.308e-02, 1.860e-02, 1.340e-02,\n",
       "        1.389e-02, 3.532e-03, 2.499e+01, 2.341e+01, 1.588e+02, 1.956e+03,\n",
       "        1.238e-01, 1.866e-01, 2.416e-01, 1.860e-01, 2.750e-01, 8.902e-02],\n",
       "       [1.969e+01, 2.125e+01, 1.300e+02, 1.203e+03, 1.096e-01, 1.599e-01,\n",
       "        1.974e-01, 1.279e-01, 2.069e-01, 5.999e-02, 7.456e-01, 7.869e-01,\n",
       "        4.585e+00, 9.403e+01, 6.150e-03, 4.006e-02, 3.832e-02, 2.058e-02,\n",
       "        2.250e-02, 4.571e-03, 2.357e+01, 2.553e+01, 1.525e+02, 1.709e+03,\n",
       "        1.444e-01, 4.245e-01, 4.504e-01, 2.430e-01, 3.613e-01, 8.758e-02]])"
      ]
     },
     "execution_count": 33,
     "metadata": {},
     "output_type": "execute_result"
    }
   ],
   "source": [
    "cancer.data[:3]"
   ]
  },
  {
   "cell_type": "markdown",
   "metadata": {},
   "source": [
    "- 구성 비가 다른 불균형 데이터를 이용해서 train/test 데이터로 분리할 경우\n",
    "- 자칫 작은 구성비를 가진 데이터들이 모두 train 또는 test데이터로 분리된다면\n",
    "-  제대로 학습과 테스트를 진행할 수가 없다.\n",
    "- 따라서 구성 비가 다른 불균형 데이터를 다룰 때는 \n",
    "    - Stratified가 붙은 클래스를 이용하거나 \n",
    "    - stratify옵션을 켜야한다"
   ]
  },
  {
   "cell_type": "markdown",
   "metadata": {},
   "source": [
    "- stratify : 지정한 Data의 비율을 유지한다. \n",
    "- 예를 들어, Label Set인 Y가 25%의 0과 75%의 1로 이루어진 Binary Set일 때, \n",
    "- stratify=Y로 설정하면 나누어진 데이터셋들도 0과 1을 각각 25%, 75%로 유지한 채 분할된다"
   ]
  },
  {
   "cell_type": "code",
   "execution_count": 34,
   "metadata": {
    "colab": {},
    "colab_type": "code",
    "id": "8IsAxDhWN9sU",
    "outputId": "f77520e5-9a0a-475d-e2ec-204859f603ac"
   },
   "outputs": [
    {
     "name": "stdout",
     "output_type": "stream",
     "text": [
      "0.916083916083916\n"
     ]
    }
   ],
   "source": [
    "np.random.seed(9)\n",
    "\n",
    "X_train, X_test, y_train, y_test = train_test_split(\n",
    "    cancer.data, cancer.target, stratify=cancer.target) \n",
    "\n",
    "clf = DecisionTreeClassifier()\n",
    "clf.fit(X_train, y_train)\n",
    "\n",
    "print(clf.score(X_test, y_test))"
   ]
  },
  {
   "cell_type": "markdown",
   "metadata": {},
   "source": [
    "■ 모델의 내부 변수\n",
    "- feature_importances_ : 결정 트리를 만드는데 각 특성이 기여한 정도"
   ]
  },
  {
   "cell_type": "code",
   "execution_count": 35,
   "metadata": {
    "colab": {},
    "colab_type": "code",
    "id": "va92V7Z7N9sY",
    "outputId": "32c5fba3-3c35-48d2-c0eb-0c317b0ea2c0"
   },
   "outputs": [
    {
     "data": {
      "text/plain": [
       "[('mean radius', 0.0),\n",
       " ('mean texture', 0.0417),\n",
       " ('mean perimeter', 0.0),\n",
       " ('mean area', 0.0),\n",
       " ('mean smoothness', 0.0),\n",
       " ('mean compactness', 0.0),\n",
       " ('mean concavity', 0.0),\n",
       " ('mean concave points', 0.0426),\n",
       " ('mean symmetry', 0.0114),\n",
       " ('mean fractal dimension', 0.0),\n",
       " ('radius error', 0.0),\n",
       " ('texture error', 0.0),\n",
       " ('perimeter error', 0.0),\n",
       " ('area error', 0.0172),\n",
       " ('smoothness error', 0.0024),\n",
       " ('compactness error', 0.012),\n",
       " ('concavity error', 0.0),\n",
       " ('concave points error', 0.0),\n",
       " ('symmetry error', 0.0),\n",
       " ('fractal dimension error', 0.0),\n",
       " ('worst radius', 0.0172),\n",
       " ('worst texture', 0.0396),\n",
       " ('worst perimeter', 0.6947),\n",
       " ('worst area', 0.0),\n",
       " ('worst smoothness', 0.0),\n",
       " ('worst compactness', 0.0),\n",
       " ('worst concavity', 0.0),\n",
       " ('worst concave points', 0.1211),\n",
       " ('worst symmetry', 0.0),\n",
       " ('worst fractal dimension', 0.0)]"
      ]
     },
     "execution_count": 35,
     "metadata": {},
     "output_type": "execute_result"
    }
   ],
   "source": [
    "list(zip(cancer.feature_names, clf.feature_importances_.round(4)))"
   ]
  },
  {
   "cell_type": "markdown",
   "metadata": {},
   "source": [
    "- 각 특징의 중요도를 DataFrame 으로 생성\n",
    "- 중요도가 높은 순서로 상위 10개 특성을 출력"
   ]
  },
  {
   "cell_type": "code",
   "execution_count": 36,
   "metadata": {
    "colab": {},
    "colab_type": "code",
    "id": "KR52om1VN9sb"
   },
   "outputs": [],
   "source": [
    "df = pd.DataFrame({'feature':cancer.feature_names,'importance':clf.feature_importances_ })"
   ]
  },
  {
   "cell_type": "code",
   "execution_count": 38,
   "metadata": {
    "colab": {},
    "colab_type": "code",
    "collapsed": true,
    "id": "zRlDpyLAN9se",
    "outputId": "0a8c5eaa-c9e3-43c9-8e81-6d6911b099e0"
   },
   "outputs": [
    {
     "data": {
      "text/html": [
       "<div>\n",
       "<style scoped>\n",
       "    .dataframe tbody tr th:only-of-type {\n",
       "        vertical-align: middle;\n",
       "    }\n",
       "\n",
       "    .dataframe tbody tr th {\n",
       "        vertical-align: top;\n",
       "    }\n",
       "\n",
       "    .dataframe thead th {\n",
       "        text-align: right;\n",
       "    }\n",
       "</style>\n",
       "<table border=\"1\" class=\"dataframe\">\n",
       "  <thead>\n",
       "    <tr style=\"text-align: right;\">\n",
       "      <th></th>\n",
       "      <th>feature</th>\n",
       "      <th>importance</th>\n",
       "    </tr>\n",
       "  </thead>\n",
       "  <tbody>\n",
       "    <tr>\n",
       "      <th>0</th>\n",
       "      <td>mean radius</td>\n",
       "      <td>0.000000</td>\n",
       "    </tr>\n",
       "    <tr>\n",
       "      <th>1</th>\n",
       "      <td>mean texture</td>\n",
       "      <td>0.041720</td>\n",
       "    </tr>\n",
       "    <tr>\n",
       "      <th>2</th>\n",
       "      <td>mean perimeter</td>\n",
       "      <td>0.000000</td>\n",
       "    </tr>\n",
       "    <tr>\n",
       "      <th>3</th>\n",
       "      <td>mean area</td>\n",
       "      <td>0.000000</td>\n",
       "    </tr>\n",
       "    <tr>\n",
       "      <th>4</th>\n",
       "      <td>mean smoothness</td>\n",
       "      <td>0.000000</td>\n",
       "    </tr>\n",
       "    <tr>\n",
       "      <th>5</th>\n",
       "      <td>mean compactness</td>\n",
       "      <td>0.000000</td>\n",
       "    </tr>\n",
       "    <tr>\n",
       "      <th>6</th>\n",
       "      <td>mean concavity</td>\n",
       "      <td>0.000000</td>\n",
       "    </tr>\n",
       "    <tr>\n",
       "      <th>7</th>\n",
       "      <td>mean concave points</td>\n",
       "      <td>0.042647</td>\n",
       "    </tr>\n",
       "    <tr>\n",
       "      <th>8</th>\n",
       "      <td>mean symmetry</td>\n",
       "      <td>0.011405</td>\n",
       "    </tr>\n",
       "    <tr>\n",
       "      <th>9</th>\n",
       "      <td>mean fractal dimension</td>\n",
       "      <td>0.000000</td>\n",
       "    </tr>\n",
       "    <tr>\n",
       "      <th>10</th>\n",
       "      <td>radius error</td>\n",
       "      <td>0.000000</td>\n",
       "    </tr>\n",
       "    <tr>\n",
       "      <th>11</th>\n",
       "      <td>texture error</td>\n",
       "      <td>0.000000</td>\n",
       "    </tr>\n",
       "    <tr>\n",
       "      <th>12</th>\n",
       "      <td>perimeter error</td>\n",
       "      <td>0.000000</td>\n",
       "    </tr>\n",
       "    <tr>\n",
       "      <th>13</th>\n",
       "      <td>area error</td>\n",
       "      <td>0.017216</td>\n",
       "    </tr>\n",
       "    <tr>\n",
       "      <th>14</th>\n",
       "      <td>smoothness error</td>\n",
       "      <td>0.002385</td>\n",
       "    </tr>\n",
       "    <tr>\n",
       "      <th>15</th>\n",
       "      <td>compactness error</td>\n",
       "      <td>0.012042</td>\n",
       "    </tr>\n",
       "    <tr>\n",
       "      <th>16</th>\n",
       "      <td>concavity error</td>\n",
       "      <td>0.000000</td>\n",
       "    </tr>\n",
       "    <tr>\n",
       "      <th>17</th>\n",
       "      <td>concave points error</td>\n",
       "      <td>0.000000</td>\n",
       "    </tr>\n",
       "    <tr>\n",
       "      <th>18</th>\n",
       "      <td>symmetry error</td>\n",
       "      <td>0.000000</td>\n",
       "    </tr>\n",
       "    <tr>\n",
       "      <th>19</th>\n",
       "      <td>fractal dimension error</td>\n",
       "      <td>0.000000</td>\n",
       "    </tr>\n",
       "    <tr>\n",
       "      <th>20</th>\n",
       "      <td>worst radius</td>\n",
       "      <td>0.017188</td>\n",
       "    </tr>\n",
       "    <tr>\n",
       "      <th>21</th>\n",
       "      <td>worst texture</td>\n",
       "      <td>0.039639</td>\n",
       "    </tr>\n",
       "    <tr>\n",
       "      <th>22</th>\n",
       "      <td>worst perimeter</td>\n",
       "      <td>0.694689</td>\n",
       "    </tr>\n",
       "    <tr>\n",
       "      <th>23</th>\n",
       "      <td>worst area</td>\n",
       "      <td>0.000000</td>\n",
       "    </tr>\n",
       "    <tr>\n",
       "      <th>24</th>\n",
       "      <td>worst smoothness</td>\n",
       "      <td>0.000000</td>\n",
       "    </tr>\n",
       "    <tr>\n",
       "      <th>25</th>\n",
       "      <td>worst compactness</td>\n",
       "      <td>0.000000</td>\n",
       "    </tr>\n",
       "    <tr>\n",
       "      <th>26</th>\n",
       "      <td>worst concavity</td>\n",
       "      <td>0.000000</td>\n",
       "    </tr>\n",
       "    <tr>\n",
       "      <th>27</th>\n",
       "      <td>worst concave points</td>\n",
       "      <td>0.121068</td>\n",
       "    </tr>\n",
       "    <tr>\n",
       "      <th>28</th>\n",
       "      <td>worst symmetry</td>\n",
       "      <td>0.000000</td>\n",
       "    </tr>\n",
       "    <tr>\n",
       "      <th>29</th>\n",
       "      <td>worst fractal dimension</td>\n",
       "      <td>0.000000</td>\n",
       "    </tr>\n",
       "  </tbody>\n",
       "</table>\n",
       "</div>"
      ],
      "text/plain": [
       "                    feature  importance\n",
       "0               mean radius    0.000000\n",
       "1              mean texture    0.041720\n",
       "2            mean perimeter    0.000000\n",
       "3                 mean area    0.000000\n",
       "4           mean smoothness    0.000000\n",
       "5          mean compactness    0.000000\n",
       "6            mean concavity    0.000000\n",
       "7       mean concave points    0.042647\n",
       "8             mean symmetry    0.011405\n",
       "9    mean fractal dimension    0.000000\n",
       "10             radius error    0.000000\n",
       "11            texture error    0.000000\n",
       "12          perimeter error    0.000000\n",
       "13               area error    0.017216\n",
       "14         smoothness error    0.002385\n",
       "15        compactness error    0.012042\n",
       "16          concavity error    0.000000\n",
       "17     concave points error    0.000000\n",
       "18           symmetry error    0.000000\n",
       "19  fractal dimension error    0.000000\n",
       "20             worst radius    0.017188\n",
       "21            worst texture    0.039639\n",
       "22          worst perimeter    0.694689\n",
       "23               worst area    0.000000\n",
       "24         worst smoothness    0.000000\n",
       "25        worst compactness    0.000000\n",
       "26          worst concavity    0.000000\n",
       "27     worst concave points    0.121068\n",
       "28           worst symmetry    0.000000\n",
       "29  worst fractal dimension    0.000000"
      ]
     },
     "execution_count": 38,
     "metadata": {},
     "output_type": "execute_result"
    }
   ],
   "source": [
    "df"
   ]
  },
  {
   "cell_type": "code",
   "execution_count": 41,
   "metadata": {
    "colab": {},
    "colab_type": "code",
    "id": "yHLpdf83N9sj",
    "outputId": "fdf54837-60a3-423d-89ba-db1b34aa1950",
    "scrolled": true
   },
   "outputs": [
    {
     "name": "stdout",
     "output_type": "stream",
     "text": [
      "                    feature  importance\n",
      "22          worst perimeter    0.694689\n",
      "27     worst concave points    0.121068\n",
      "7       mean concave points    0.042647\n",
      "1              mean texture    0.041720\n",
      "21            worst texture    0.039639\n",
      "13               area error    0.017216\n",
      "20             worst radius    0.017188\n",
      "15        compactness error    0.012042\n",
      "8             mean symmetry    0.011405\n",
      "14         smoothness error    0.002385\n",
      "23               worst area    0.000000\n",
      "18           symmetry error    0.000000\n",
      "24         worst smoothness    0.000000\n",
      "25        worst compactness    0.000000\n",
      "26          worst concavity    0.000000\n",
      "16          concavity error    0.000000\n",
      "19  fractal dimension error    0.000000\n",
      "0               mean radius    0.000000\n",
      "17     concave points error    0.000000\n",
      "12          perimeter error    0.000000\n"
     ]
    }
   ],
   "source": [
    "df=df.sort_values('importance', ascending=False) \n",
    "print(df.head(20))"
   ]
  },
  {
   "cell_type": "markdown",
   "metadata": {},
   "source": [
    "- 각 특성의 기여도를 바 차트로 그리는 코드\n",
    "- 바 차트를 수평(horizontal)로 그리기 위해서 barh 함수를 사용\n",
    "    - yticks(ticks, [labels], **kwargs)"
   ]
  },
  {
   "cell_type": "code",
   "execution_count": 42,
   "metadata": {
    "colab": {},
    "colab_type": "code",
    "id": "_i_E1kzaN9sp",
    "outputId": "222814ad-f5f5-4663-a01e-7f639411f8de"
   },
   "outputs": [
    {
     "data": {
      "image/png": "[encoded data removed]",
      "text/plain": [
       "<Figure size 720x504 with 1 Axes>"
      ]
     },
     "metadata": {
      "needs_background": "light"
     },
     "output_type": "display_data"
    }
   ],
   "source": [
    "x = df.feature\n",
    "y = df.importance\n",
    "ypos = np.arange(len(x))\n",
    "plt.figure(figsize=(10,7)) \n",
    "plt.barh(x, y) \n",
    "plt.yticks(ypos, x) \n",
    "plt.xlabel('Importance') \n",
    "plt.ylabel('Variable') \n",
    "plt.xlim(0, 1) \n",
    "plt.ylim(-1, len(x)) \n",
    "plt.show()"
   ]
  },
  {
   "cell_type": "code",
   "execution_count": null,
   "metadata": {},
   "outputs": [],
   "source": []
  }
 ],
 "metadata": {
  "colab": {
   "collapsed_sections": [],
   "name": "gg_35_결정트리_붓꽃유방암.ipynb",
   "provenance": [],
   "version": "0.3.2"
  },
  "kernelspec": {
   "display_name": "Python 3",
   "language": "python",
   "name": "python3"
  },
  "language_info": {
   "codemirror_mode": {
    "name": "ipython",
    "version": 3
   },
   "file_extension": ".py",
   "mimetype": "text/x-python",
   "name": "python",
   "nbconvert_exporter": "python",
   "pygments_lexer": "ipython3",
   "version": "3.7.3"
  }
 },
 "nbformat": 4,
 "nbformat_minor": 1
}
