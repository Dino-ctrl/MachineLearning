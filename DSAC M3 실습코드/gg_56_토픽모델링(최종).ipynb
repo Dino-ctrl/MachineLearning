{
 "cells": [
  {
   "cell_type": "markdown",
   "metadata": {
    "colab_type": "text",
    "id": "3BsFbov-mYgH"
   },
   "source": [
    "# 토픽모델링 (LDA)\n",
    "- ### 빅카인즈 뉴스기사 데이터 활용\n",
    "    - #### https://www.bigkinds.or.kr/"
   ]
  },
  {
   "cell_type": "code",
   "execution_count": 2,
   "metadata": {
    "colab": {
     "base_uri": "https://localhost:8080/",
     "height": 232
    },
    "colab_type": "code",
    "id": "jwLxNFThoTc9",
    "outputId": "acd7d0bf-5fef-4b25-f47f-9eee10c1d5c4"
   },
   "outputs": [
    {
     "name": "stdout",
     "output_type": "stream",
     "text": [
      "Collecting konlpy\n",
      "\u001b[?25l  Downloading https://files.pythonhosted.org/packages/e5/3d/4e983cd98d87b50b2ab0387d73fa946f745aa8164e8888a714d5129f9765/konlpy-0.5.1-py2.py3-none-any.whl (19.4MB)\n",
      "\u001b[K     |████████████████████████████████| 19.4MB 4.9MB/s \n",
      "\u001b[?25hCollecting JPype1>=0.5.7 (from konlpy)\n",
      "\u001b[?25l  Downloading https://files.pythonhosted.org/packages/c4/4b/60a3e63d51714d4d7ef1b1efdf84315d118a0a80a5b085bb52a7e2428cdc/JPype1-0.6.3.tar.gz (168kB)\n",
      "\u001b[K     |████████████████████████████████| 174kB 51.1MB/s \n",
      "\u001b[?25hBuilding wheels for collected packages: JPype1\n",
      "  Building wheel for JPype1 (setup.py) ... \u001b[?25l\u001b[?25hdone\n",
      "  Stored in directory: /root/.cache/pip/wheels/0e/2b/e8/c0b818ac4b3d35104d35e48cdc7afe27fc06ea277feed2831a\n",
      "Successfully built JPype1\n",
      "Installing collected packages: JPype1, konlpy\n",
      "Successfully installed JPype1-0.6.3 konlpy-0.5.1\n"
     ]
    }
   ],
   "source": [
    "!pip install konlpy"
   ]
  },
  {
   "cell_type": "code",
   "execution_count": 1,
   "metadata": {
    "colab": {},
    "colab_type": "code",
    "id": "RAKKV201mYgJ"
   },
   "outputs": [],
   "source": [
    "import konlpy\n",
    "import numpy as np\n",
    "import pandas as pd\n",
    "import sklearn\n",
    "from sklearn.feature_extraction.text import CountVectorizer\n",
    "from sklearn.decomposition import LatentDirichletAllocation\n",
    "from konlpy.tag import Twitter"
   ]
  },
  {
   "cell_type": "code",
   "execution_count": 2,
   "metadata": {
    "colab": {
     "base_uri": "https://localhost:8080/",
     "height": 508
    },
    "colab_type": "code",
    "id": "ohsJ-x4nnakl",
    "outputId": "674ef613-031a-493e-ed00-484c45de60bd",
    "scrolled": false
   },
   "outputs": [
    {
     "name": "stderr",
     "output_type": "stream",
     "text": [
      "--15:23:36--  https://bit.ly/2QA9xhg\n",
      "           => `news_1500.xlsx'\n",
      "Resolving bit.ly... 67.199.248.10, 67.199.248.11\n",
      "Connecting to bit.ly|67.199.248.10|:443... connected.\n",
      "ERROR: Certificate verification error for bit.ly: unable to get local issuer certificate\n",
      "To connect to bit.ly insecurely, use `--no-check-certificate'.\n",
      "Unable to establish SSL connection.\n"
     ]
    }
   ],
   "source": [
    "!wget https://bit.ly/2QA9xhg -O news_1500.xlsx"
   ]
  },
  {
   "cell_type": "markdown",
   "metadata": {},
   "source": [
    "### 데이터(뉴스 기사) 읽기"
   ]
  },
  {
   "cell_type": "code",
   "execution_count": 3,
   "metadata": {},
   "outputs": [],
   "source": [
    "df_train = pd.read_excel('news_1500.xlsx', names=['기사'], delimiter='\\t', keep_default_na=False)"
   ]
  },
  {
   "cell_type": "code",
   "execution_count": 8,
   "metadata": {},
   "outputs": [
    {
     "data": {
      "text/html": [
       "<div>\n",
       "<style scoped>\n",
       "    .dataframe tbody tr th:only-of-type {\n",
       "        vertical-align: middle;\n",
       "    }\n",
       "\n",
       "    .dataframe tbody tr th {\n",
       "        vertical-align: top;\n",
       "    }\n",
       "\n",
       "    .dataframe thead th {\n",
       "        text-align: right;\n",
       "    }\n",
       "</style>\n",
       "<table border=\"1\" class=\"dataframe\">\n",
       "  <thead>\n",
       "    <tr style=\"text-align: right;\">\n",
       "      <th></th>\n",
       "      <th>기사</th>\n",
       "    </tr>\n",
       "  </thead>\n",
       "  <tbody>\n",
       "    <tr>\n",
       "      <th>0</th>\n",
       "      <td>호주 브리즈번에서 발생한 한국인 워킹홀리데이 참가자 살해범이 같은 한국인 것으로 드...</td>\n",
       "    </tr>\n",
       "    <tr>\n",
       "      <th>1</th>\n",
       "      <td>호주 경찰이 한국인 워킹홀리데이 참가자를 살해한 혐의로 또 다른 한국인 남성을 기소...</td>\n",
       "    </tr>\n",
       "    <tr>\n",
       "      <th>2</th>\n",
       "      <td>\\n \\n호주 괴물 가재가 공개돼 네티즌들의 폭발적인 관심을 끌고 있다. \\n ...</td>\n",
       "    </tr>\n",
       "    <tr>\n",
       "      <th>3</th>\n",
       "      <td>최근 인기를 끌고 있는 tvN의 드라마 ‘응답하라 1994’가 같은 장면을 내보내고...</td>\n",
       "    </tr>\n",
       "    <tr>\n",
       "      <th>4</th>\n",
       "      <td>호주 워킹홀리데이 한국인 참가자가 19일 또다시 숨진 채 발견됐다. 지난달 호주에서...</td>\n",
       "    </tr>\n",
       "  </tbody>\n",
       "</table>\n",
       "</div>"
      ],
      "text/plain": [
       "                                                  기사\n",
       "0  호주 브리즈번에서 발생한 한국인 워킹홀리데이 참가자 살해범이 같은 한국인 것으로 드...\n",
       "1  호주 경찰이 한국인 워킹홀리데이 참가자를 살해한 혐의로 또 다른 한국인 남성을 기소...\n",
       "2    \\n \\n호주 괴물 가재가 공개돼 네티즌들의 폭발적인 관심을 끌고 있다. \\n ...\n",
       "3  최근 인기를 끌고 있는 tvN의 드라마 ‘응답하라 1994’가 같은 장면을 내보내고...\n",
       "4  호주 워킹홀리데이 한국인 참가자가 19일 또다시 숨진 채 발견됐다. 지난달 호주에서..."
      ]
     },
     "execution_count": 8,
     "metadata": {},
     "output_type": "execute_result"
    }
   ],
   "source": [
    "df_train[:5]"
   ]
  },
  {
   "cell_type": "code",
   "execution_count": 5,
   "metadata": {
    "scrolled": true
   },
   "outputs": [
    {
     "data": {
      "text/plain": [
       "(1499, 1)"
      ]
     },
     "execution_count": 5,
     "metadata": {},
     "output_type": "execute_result"
    }
   ],
   "source": [
    "df_train.shape"
   ]
  },
  {
   "cell_type": "markdown",
   "metadata": {},
   "source": [
    "- #### Countvectorizer적용을 위해 list로 변환"
   ]
  },
  {
   "cell_type": "code",
   "execution_count": 2,
   "metadata": {
    "colab": {},
    "colab_type": "code",
    "id": "NWAqESDNmYgM"
   },
   "outputs": [],
   "source": [
    "#Countvectorizer적용을 위해 list로 변환\n",
    "\n",
    "list_train = df_train['기사'].tolist()"
   ]
  },
  {
   "cell_type": "code",
   "execution_count": 6,
   "metadata": {
    "colab": {
     "base_uri": "https://localhost:8080/",
     "height": 33
    },
    "colab_type": "code",
    "id": "pzcn7CzxnsID",
    "outputId": "9d5ba516-665a-4019-e8cb-0485b17b763e"
   },
   "outputs": [
    {
     "data": {
      "text/plain": [
       "1499"
      ]
     },
     "execution_count": 6,
     "metadata": {},
     "output_type": "execute_result"
    }
   ],
   "source": [
    "len(list_train)"
   ]
  },
  {
   "cell_type": "code",
   "execution_count": 7,
   "metadata": {
    "colab": {
     "base_uri": "https://localhost:8080/",
     "height": 118
    },
    "colab_type": "code",
    "id": "F-9QTOBPn0wS",
    "outputId": "4ab7ee36-b38d-4a43-8991-285c5b6ab5c8"
   },
   "outputs": [
    {
     "data": {
      "text/plain": [
       "['호주 브리즈번에서 발생한 한국인 워킹홀리데이 참가자 살해범이 같은 한국인 것으로 드라나 충격을 주고 있다. \\n \\n20일 호주 국영 ABC방송은 퀸즐랜드주 경찰이 김모(28)씨를 살해하고 암매장한 혐의로\\xa0한국인 홍모(28)씨를\\xa0체포했다고 보도했다. \\n \\n경찰에 따르면 홍씨는\\xa0지난 16일 오후 브리즈번 캐넌힐에서 1만 5000 호주달러를 원화로 환전해줄 사..',\n",
       " '호주 경찰이 한국인 워킹홀리데이 참가자를 살해한 혐의로 또 다른 한국인 남성을 기소했다고 호주 언론이 보도했다. \\n \\n퀸즐랜드주 경찰은 20일(현지시간) 금품을 빼앗기 위해 김민태(28)씨를 살해한 혐의로 황모(28)씨를 기소했다고 시드니모닝헤럴드가 보도했다. \\n \\n그는 이날 브리즈번 법원에서 열린 심리에 출석해 기자들로부터 고개를 돌린 채 아래쪽만 쳐..',\n",
       " '\\xa0 \\n \\n호주 괴물 가재가 공개돼 네티즌들의 폭발적인 관심을 끌고 있다. \\n \\n최근 각종 온라인 커뮤니티 게시판에는 ‘호주 괴물 가재’라는 제목의 사진 한 장이 게재됐다. \\n \\n공개된 사진에는 웬만한 성인 남성 팔 크기와 비슷한 가재의 모습이 담겨 있다. 사진 속 남성도 가재가 무거운지 엉거주춤한 자세를 취하고 있다. 호주에서 잡힌 것으로 알려진 가재의..',\n",
       " '최근 인기를 끌고 있는 tvN의 드라마 ‘응답하라 1994’가 같은 장면을 내보내고 다른 프로그램의 화면이 나오는 등 방송사고를 냈다. \\n▶ 방송사고 이후 사과 자막이 나오는 tvN ‘응답하라 1994’의 한 장면.20일 밤 10시쯤 드라마 ‘응답하라 1994’가 방송되는 도중에 방송사고가 발생했다. 이날 방송에서 성나정이 호주로 떠났다가 한국으로 돌아..',\n",
       " '호주 워킹홀리데이 한국인 참가자가 19일 또다시 숨진 채 발견됐다. 지난달 호주에서 한국인 여대생이 무참히 살해된 지 한 달도 지나지 않아 발생한 이번 사건으로 호주 교민사회 및 어학연수 희망자들의 불안감이 커지고 있다. \\n \\n호주 ABC방송 등에 따르면 퀸즐랜드주 경찰은 이날 브리즈번 남서부 앨지스터 한 주택 뒷마당에서 발견된 변사체가 사흘 전 행방불..']"
      ]
     },
     "execution_count": 7,
     "metadata": {},
     "output_type": "execute_result"
    }
   ],
   "source": [
    "list_train[:5]"
   ]
  },
  {
   "cell_type": "markdown",
   "metadata": {},
   "source": [
    "### 형태소 분석"
   ]
  },
  {
   "cell_type": "code",
   "execution_count": 9,
   "metadata": {
    "scrolled": false
   },
   "outputs": [
    {
     "name": "stderr",
     "output_type": "stream",
     "text": [
      "C:\\Users\\ojkwon\\Anaconda3\\lib\\site-packages\\konlpy\\tag\\_okt.py:16: UserWarning: \"Twitter\" has changed to \"Okt\" since KoNLPy v0.4.5.\n",
      "  warn('\"Twitter\" has changed to \"Okt\" since KoNLPy v0.4.5.')\n",
      "C:\\Users\\ojkwon\\Anaconda3\\lib\\site-packages\\jpype\\_core.py:210: UserWarning: \n",
      "-------------------------------------------------------------------------------\n",
      "Deprecated: convertStrings was not specified when starting the JVM. The default\n",
      "behavior in JPype will be False starting in JPype 0.8. The recommended setting\n",
      "for new code is convertStrings=False.  The legacy value of True was assumed for\n",
      "this session. If you are a user of an application that reported this warning,\n",
      "please file a ticket with the developer.\n",
      "-------------------------------------------------------------------------------\n",
      "\n",
      "  \"\"\")\n"
     ]
    }
   ],
   "source": [
    "twitter = Twitter()"
   ]
  },
  {
   "cell_type": "code",
   "execution_count": 10,
   "metadata": {
    "colab": {
     "base_uri": "https://localhost:8080/",
     "height": 50
    },
    "colab_type": "code",
    "id": "fiT5TWoImYgQ",
    "outputId": "e66d948b-f9a6-4563-8442-cfd7f83e7805"
   },
   "outputs": [],
   "source": [
    "results = []\n",
    "for line in list_train:\n",
    "    word_list = twitter.pos(line, norm=True, stem=True)\n",
    "    \n",
    "    words = []\n",
    "    for word in word_list:\n",
    "        if not word[1] in [\"Josa\", \"eomi\", \"Punctuation\", \"Verb\"]:\n",
    "            words.append(word[0])\n",
    "            \n",
    "    words = (\" \".join(words)).strip()\n",
    "    \n",
    "    results.append(words)"
   ]
  },
  {
   "cell_type": "code",
   "execution_count": 12,
   "metadata": {
    "scrolled": true
   },
   "outputs": [
    {
     "data": {
      "text/plain": [
       "['호주 브리즈번 발생 한국인 워킹홀리데이 참가자 살해 범 같다 한국인 것 드라 충격 있다 20일 호주 국영 ABC 방송 퀸즐랜드 주 경찰 김모 28 씨 살해 암매장 혐의 \\xa0 한국인 홍모 28 씨 \\xa0 체포 보도 경찰 홍씨 \\xa0 지난 16일 오후 브리즈번 캐넌 힐 1만 5000 호주달러 원화로 환전 사',\n",
       " '호주 경찰 한국인 워킹홀리데이 참가자 살해 혐의 또 다른 한국인 남성 기소 호주 언론 보도 퀸즐랜드 주 경찰 20일 현지 시간 금품 위해 김민 태 28 씨 살해 혐의 황모 28 씨 기소 시드니 모닝 헤럴드 보도 그 이 날 브리즈번 법원 심리 출석 기자 들 로부터 고개 채 아래쪽',\n",
       " '호주 괴물 가재 공개 네티즌 들 폭발 적 관심 끌 있다 최근 각종 온라인 커뮤니티 게시판 ‘ 호주 괴물 가재 제목 사진 장이 게재 공개 사진 웬만하다 성인 남성 팔 크기 비슷하다 가재 모습 있다 사진 속 남성 가재 무겁다 엉거주춤 자세 취하 있다 호주 것 가재',\n",
       " '최근 인기 끌 있다 tvN 의 드라마 ‘ 응답 하 1994 같다 장면 다른 프로그램 화면 등 방송사고 ▶ 방송사고 이후 사과 자막 tvN ‘ 응답 하 1994 의 장면 20일 밤 10시 쯤 드라마 ‘ 응답 하 1994 방송 도중 방송사고 발생 이 날 방송 정이 호주 한국',\n",
       " '호주 워킹홀리데이 한국인 참가자 19일 또다시 채 발견 지난달 호주 한국인 여대생 무참 히 살해 달도 발생 이번 사건 호주 교민 사회 및 어학 연수 희망 자 들 불안감 있다 호주 ABC 방송 등 퀸즐랜드 주 경찰 이 날 브리즈번 남 서부 앨 지스 터 주택 뒷마당 발견 변 사체 사흘 전 행방 불']"
      ]
     },
     "execution_count": 12,
     "metadata": {},
     "output_type": "execute_result"
    }
   ],
   "source": [
    "results[:5]"
   ]
  },
  {
   "cell_type": "markdown",
   "metadata": {},
   "source": [
    "### 문서-단어 벡터 생성\n",
    "- 단어(특징) 벡터 수 : 1,000\n",
    "- max_df : 정수 또는 [0.0, 1.0] 사이의 실수. 디폴트 1\n",
    "    - 단어장에 포함되기 위한 최대 빈도\n",
    "- min_df : 정수 또는 [0.0, 1.0] 사이의 실수. 디폴트 1\n",
    "    - 단어장에 포함되기 위한 최소 빈도"
   ]
  },
  {
   "cell_type": "code",
   "execution_count": 13,
   "metadata": {},
   "outputs": [],
   "source": [
    "vect = CountVectorizer(max_features=10000, max_df=.10)\n",
    "X = vect.fit_transform(results)"
   ]
  },
  {
   "cell_type": "markdown",
   "metadata": {},
   "source": [
    "## 토픽 분류 \n",
    "- ### 토픽 수 : 10개"
   ]
  },
  {
   "cell_type": "code",
   "execution_count": 14,
   "metadata": {
    "colab": {},
    "colab_type": "code",
    "id": "fOJsf8t2mYgT"
   },
   "outputs": [],
   "source": [
    "lda = LatentDirichletAllocation(n_components=10, learning_method=\"batch\",\n",
    "                                max_iter=25, random_state=0)\n",
    "\n",
    "document_topics = lda.fit_transform(X)"
   ]
  },
  {
   "cell_type": "code",
   "execution_count": 15,
   "metadata": {
    "colab": {
     "base_uri": "https://localhost:8080/",
     "height": 33
    },
    "colab_type": "code",
    "id": "9CDlvyGlmYgV",
    "outputId": "efb44860-b950-472e-b3df-2ca808aa1d0f",
    "scrolled": true
   },
   "outputs": [
    {
     "data": {
      "text/plain": [
       "(10, 10000)"
      ]
     },
     "execution_count": 15,
     "metadata": {},
     "output_type": "execute_result"
    }
   ],
   "source": [
    "lda.components_.shape"
   ]
  },
  {
   "cell_type": "code",
   "execution_count": 16,
   "metadata": {},
   "outputs": [
    {
     "data": {
      "text/plain": [
       "array([[0.1       , 0.1       , 1.10000029, ..., 0.1       , 0.1       ,\n",
       "        0.1       ],\n",
       "       [0.1       , 0.1       , 0.1       , ..., 1.09999986, 0.1       ,\n",
       "        0.1       ],\n",
       "       [0.1       , 1.10000037, 0.1       , ..., 0.10002018, 0.1       ,\n",
       "        0.1       ],\n",
       "       ...,\n",
       "       [0.1       , 0.1       , 0.1       , ..., 0.1       , 0.1       ,\n",
       "        0.1       ],\n",
       "       [2.09996326, 1.09999963, 0.1       , ..., 2.09986036, 0.1       ,\n",
       "        0.1       ],\n",
       "       [0.1       , 0.1       , 1.09999971, ..., 0.1       , 0.1       ,\n",
       "        0.1       ]])"
      ]
     },
     "execution_count": 16,
     "metadata": {},
     "output_type": "execute_result"
    }
   ],
   "source": [
    "lda.components_"
   ]
  },
  {
   "cell_type": "markdown",
   "metadata": {},
   "source": [
    "### 토픽마다(components_의 행) 특성을 오름차순으로 정렬\n",
    "- #### 내림차순이 되도록 [:, ::-1] 사용해 행의 정렬을 반대로 바꾼다"
   ]
  },
  {
   "cell_type": "markdown",
   "metadata": {},
   "source": [
    "### argsort()\n",
    "- 작은 값부터 순서대로 데이터의 index를 반환"
   ]
  },
  {
   "cell_type": "markdown",
   "metadata": {},
   "source": [
    "###  Extended Slices \n",
    "- #### arr[A:B:C]의 의미\n",
    "    - index A 부터 index B 까지, C의 간격으로 배열을 만들어준다"
   ]
  },
  {
   "cell_type": "code",
   "execution_count": 17,
   "metadata": {
    "colab": {},
    "colab_type": "code",
    "id": "Xwof2b3HmYgZ"
   },
   "outputs": [],
   "source": [
    "# 토픽마다(components_의 행) 특성을 오름차순으로 정렬합니다\n",
    "# 내림차순이 되도록 [:, ::-1] 사용해 행의 정렬을 반대로 바꿉니다\n",
    "\n",
    "sorting = np.argsort(lda.components_, axis=1)[:, ::-1]"
   ]
  },
  {
   "cell_type": "code",
   "execution_count": 18,
   "metadata": {
    "scrolled": true
   },
   "outputs": [
    {
     "data": {
      "text/plain": [
       "array([[4166, 6205, 5187, ..., 6066, 5206, 8109],\n",
       "       [4339, 9353, 7862, ..., 5982, 5206, 8109],\n",
       "       [2554, 4573, 4202, ..., 5982, 6066, 8109],\n",
       "       ...,\n",
       "       [2499, 2554, 4655, ..., 6066, 5206, 8109],\n",
       "       [3471, 3823, 2499, ..., 6066, 5206, 8109],\n",
       "       [5945, 8843, 6884, ..., 5982, 6066, 5206]], dtype=int64)"
      ]
     },
     "execution_count": 18,
     "metadata": {},
     "output_type": "execute_result"
    }
   ],
   "source": [
    "sorting"
   ]
  },
  {
   "cell_type": "markdown",
   "metadata": {},
   "source": [
    "### CountVectorizer 객체에서 특성 이름"
   ]
  },
  {
   "cell_type": "code",
   "execution_count": 19,
   "metadata": {},
   "outputs": [],
   "source": [
    "# CountVectorizer 객체에서 특성 이름을 구합니다.\n",
    "\n",
    "feature_names = np.array(vect.get_feature_names())"
   ]
  },
  {
   "cell_type": "code",
   "execution_count": 21,
   "metadata": {},
   "outputs": [
    {
     "data": {
      "text/plain": [
       "(10000,)"
      ]
     },
     "execution_count": 21,
     "metadata": {},
     "output_type": "execute_result"
    }
   ],
   "source": [
    "feature_names.shape"
   ]
  },
  {
   "cell_type": "code",
   "execution_count": 20,
   "metadata": {},
   "outputs": [
    {
     "data": {
      "text/plain": [
       "array(['00', '000만', '02', ..., '힘들다', '힙합댄스', '兩會'], dtype='<U16')"
      ]
     },
     "execution_count": 20,
     "metadata": {},
     "output_type": "execute_result"
    }
   ],
   "source": [
    "feature_names"
   ]
  },
  {
   "cell_type": "code",
   "execution_count": 22,
   "metadata": {},
   "outputs": [],
   "source": [
    "import matplotlib.pyplot as plt\n",
    "%matplotlib inline"
   ]
  },
  {
   "cell_type": "markdown",
   "metadata": {},
   "source": [
    "### 10개의 토픽을 출력"
   ]
  },
  {
   "cell_type": "markdown",
   "metadata": {},
   "source": [
    "#### .format(*these_topics)\n",
    "- 값들이 table에 들어 있다\n",
    "\n",
    "#### sorting[these_topics, i]\n",
    "- 각 topic 별 특징들의 index (높은 순으로)\n",
    "\n",
    "#### 예외 처리\n",
    "- 먼저, try 절 (try 와 except 사이의 문장들) 이 실행\n",
    "- 예외가 발생하지 않으면, except 절을 건너뛰고 try 문의 실행은 종료\n",
    "- try 절을 실행하는 동안 예외가 발생하면, \n",
    "    - 절의 남은 부분들을 건너뛴다\n",
    "    - 그런 다음 형이 except 키워드 뒤에 오는 예외 이름과 매치되면, 그 except 절이 실행되고\n",
    "    - 그런 다음 실행은 try 문 뒤로 이어 수행\n",
    "- except 절에 있는 예외 이름들과 매치되지 않는 예외가 발생하면, \n",
    "    - 외부에 있는 try 문으로 전달된다.\n",
    "    - 처리기가 발견되지 않으면, 처리되지 않은 예외이고, Error 메시지를 출력하고 실행이 멈춘다.\n",
    "\n",
    "#### pass 문\n",
    "- 아무것도 하지 않는다.\n",
    "- 문법적으로 문장이 필요하지만, 프로그램이 특별히 할 일이 없을 때 사용"
   ]
  },
  {
   "cell_type": "code",
   "execution_count": 23,
   "metadata": {
    "colab": {
     "base_uri": "https://localhost:8080/",
     "height": 472
    },
    "colab_type": "code",
    "id": "XOiDo2XumYgc",
    "outputId": "07a06566-658d-4613-94d8-ab2effd2cec0"
   },
   "outputs": [],
   "source": [
    "def print_topics(topics, feature_names, sorting, topics_per_chunk=6, n_words=20):\n",
    "    \n",
    "    for i in range(0, len(topics), topics_per_chunk):\n",
    "        \n",
    "        # for each chunk:\n",
    "        these_topics = topics[i: i + topics_per_chunk]\n",
    "        \n",
    "        # maybe we have less than topics_per_chunk left\n",
    "        len_this_chunk = len(these_topics)\n",
    "        \n",
    "        # print topic headers\n",
    "        print((\"topic {:<8}\" * len_this_chunk).format(*these_topics))\n",
    "        print((\"-------- {0:<5}\" * len_this_chunk).format(\"\"))\n",
    "        \n",
    "        # print top n_words frequent words\n",
    "        for i in range(n_words):\n",
    "            try:\n",
    "                print((\"{:<14}\" * len_this_chunk).format(\n",
    "                    *feature_names[sorting[these_topics, i]]))\n",
    "            except:\n",
    "                pass\n",
    "        print(\"\\n\")"
   ]
  },
  {
   "cell_type": "code",
   "execution_count": 24,
   "metadata": {
    "scrolled": true
   },
   "outputs": [
    {
     "name": "stdout",
     "output_type": "stream",
     "text": [
      "topic 0       topic 1       topic 2       topic 3       topic 4       \n",
      "--------      --------      --------      --------      --------      \n",
      "박태환           보도            국제            리그            올림픽           \n",
      "올림픽           필리핀           사드            포켓몬           경기            \n",
      "수영            지역            발표            축구            대표팀           \n",
      "출전            통해            개최            acl           예선            \n",
      "리우            결과            내년            감독            대회            \n",
      "국가대표          정부            독도            게임            시드니           \n",
      "27            같다            평화            시즌            오후            \n",
      "정부            발견            위성            해밍턴           2016          \n",
      "선수            조사            소녀            지난해           출전            \n",
      "대학            방송            기업            전북            리우            \n",
      "\n",
      "\n",
      "topic 5       topic 6       topic 7       topic 8       topic 9       \n",
      "--------      --------      --------      --------      --------      \n",
      "축구            골프            국가            대통령           여성            \n",
      "브라질           투어            국제            마약            통화            \n",
      "월드컵           프로            삼성            국가            일리            \n",
      "선수            대회            대만            개국            시드니           \n",
      "fifa          여자            2013          없다            수출            \n",
      "본선            랭킹            해외            20            메일            \n",
      "대표팀           lpga          시리즈           개발            해외            \n",
      "연맹            상금            대통령           전자            밉다            \n",
      "2014          라운드           정보            유엔            정부            \n",
      "국제            pga           보도            우리나라          소녀            \n",
      "\n",
      "\n"
     ]
    }
   ],
   "source": [
    "print_topics(topics=range(10), feature_names=feature_names, sorting=sorting, topics_per_chunk=5, n_words=10)"
   ]
  },
  {
   "cell_type": "markdown",
   "metadata": {},
   "source": [
    "### (분석) 토픽의 수(10개)를 적게 하여, 각 토픽이 포함하고 있는 주제가 다양하게 분포한다."
   ]
  },
  {
   "cell_type": "markdown",
   "metadata": {},
   "source": [
    "## 100개 토픽 학습"
   ]
  },
  {
   "cell_type": "code",
   "execution_count": 26,
   "metadata": {
    "colab": {},
    "colab_type": "code",
    "id": "ybisFleNmYgf"
   },
   "outputs": [],
   "source": [
    "# 100개 토픽 학습\n",
    "lda100 = LatentDirichletAllocation(n_components=100, learning_method=\"batch\",\n",
    "                                   max_iter=25, random_state=0)\n",
    "document_topics100 = lda100.fit_transform(X)"
   ]
  },
  {
   "cell_type": "markdown",
   "metadata": {},
   "source": [
    "#### 100개 중 임의의 일부(10개)만 출력"
   ]
  },
  {
   "cell_type": "code",
   "execution_count": 27,
   "metadata": {
    "colab": {},
    "colab_type": "code",
    "id": "j1LVxI1PmYgi"
   },
   "outputs": [],
   "source": [
    "topics = np.array([7, 16, 24, 41, 45, 51, 54, 81, 89, 97])"
   ]
  },
  {
   "cell_type": "code",
   "execution_count": 28,
   "metadata": {
    "colab": {
     "base_uri": "https://localhost:8080/",
     "height": 472
    },
    "colab_type": "code",
    "id": "aXLkPbtdmYgk",
    "outputId": "3ea3d8d2-00a3-428e-d9d6-4970ae18c5c6",
    "scrolled": false
   },
   "outputs": [
    {
     "name": "stdout",
     "output_type": "stream",
     "text": [
      "topic 7       topic 16      topic 24      topic 41      topic 45      \n",
      "--------      --------      --------      --------      --------      \n",
      "엘니뇨           위해            사이트           태풍            리그            \n",
      "피해자           페이스북          경쟁            이름            전북            \n",
      "옥스팜           남중국해          이행            의미            축구            \n",
      "보고서           보도            도박            손흥민           연맹            \n",
      "wff           커플            수준            독일            acl           \n",
      "노예            합동            포트            지역            챔피언스리그        \n",
      "2013          순찰            발표            매장            클래식           \n",
      "트러블메이커        인도            국가            물이            현대            \n",
      "가장            방송            서울대           게시            서울            \n",
      "항공            올해            등급            말레이시아         시즌            \n",
      "\n",
      "\n",
      "topic 51      topic 54      topic 81      topic 89      topic 97      \n",
      "--------      --------      --------      --------      --------      \n",
      "브라질           fta           여성            강아지           독도            \n",
      "네이마르          체결            이혼            유산            우즈            \n",
      "축구            축산물           자신            도시            중앙            \n",
      "감독            수입            소주            시드니           감독            \n",
      "월드컵           소방관           보도            혼자            연맹            \n",
      "치료            자유무역          크루즈           도둑            바다            \n",
      "연금            협정            가운데           흉기            평균            \n",
      "포켓몬           감독            아이            지구            마무리           \n",
      "지역            올해            옥스퍼드          도주            투수            \n",
      "안보            수출입           정부            방송            식목일           \n",
      "\n",
      "\n"
     ]
    }
   ],
   "source": [
    "sorting = np.argsort(lda100.components_, axis=1)[:, ::-1]\n",
    "feature_names = np.array(vect.get_feature_names())\n",
    "print_topics(topics=topics, feature_names=feature_names,\n",
    "                           sorting=sorting, topics_per_chunk=5, n_words=10)"
   ]
  },
  {
   "cell_type": "markdown",
   "metadata": {},
   "source": [
    "#### (분석) 토픽 45, 54은 각각 축구, 자유무역으로 특정할 수 있는 단어들만 추출된 것을 볼 수 있다. \n",
    "#### 선정된 단어들의 의미를 파악하면 토픽을 더 명확하게 정의할 수 있다. "
   ]
  },
  {
   "cell_type": "markdown",
   "metadata": {},
   "source": [
    "## 토픽에 할당된 문서를 통해 단어 의미 파악"
   ]
  },
  {
   "cell_type": "code",
   "execution_count": 30,
   "metadata": {},
   "outputs": [],
   "source": [
    "# 골프 관련 토픽 89를 가중치로 정렬합니다\n",
    "\n",
    "golf = np.argsort(document_topics100[:, 89])[::-1]"
   ]
  },
  {
   "cell_type": "code",
   "execution_count": 31,
   "metadata": {
    "colab": {
     "base_uri": "https://localhost:8080/",
     "height": 232
    },
    "colab_type": "code",
    "id": "lkML7dNemYgo",
    "outputId": "b590f48e-7d15-4106-bf28-30dff08deddb"
   },
   "outputs": [
    {
     "name": "stdout",
     "output_type": "stream",
     "text": [
      "세계유산도시 시장과 전문가들이 경북 경주에 총 집결했다. \n",
      " \n",
      "6일 경주시에 따르면 5일부터 7일까지 3일간 경주 하이코 등에서 ‘제2차 세계유산도시기구 아 태지역 총회’를 개최한다. \n",
      " \n",
      "이번 총회에는 일본 교토시를 비롯해 14개국 35여개 세계유산도시 시장단과 세계유산 전문가들이 대거 참가했다. \n",
      " \n",
      "또 세계유산도시기구(OWHC), 유네스코 방콕사무.. \n",
      "\n",
      "“오늘(8월8일) 이후 우리는 지구에 빚을 지게 된다.” \n",
      " \n",
      "자연에 치유 기간을 주지 않고 생태자원을 무분별하게 써버리면 지구는 점점 재생 능력을 잃고 황폐하게 된다. 국제환경단체 지구생태발자국네트워크(GFN)는 이 균형을 맞추기 위해 인간이 일년치 생태자원을 모두 써버린 날을 의미하는 ‘지구용량 초과의 날’(Earth Overshoot Day)을 매.. \n",
      "\n"
     ]
    }
   ],
   "source": [
    "# 이 토픽이 가장 비중이 큰 문서 다섯개를 출력합니다\n",
    "\n",
    "for i in golf[:2]:      # 첫 두 문장을 출력합니다\n",
    "        print(list_train[i], \"\\n\")"
   ]
  },
  {
   "cell_type": "markdown",
   "metadata": {},
   "source": [
    "## CoLab에서 한글 설치"
   ]
  },
  {
   "cell_type": "code",
   "execution_count": 15,
   "metadata": {
    "colab": {
     "base_uri": "https://localhost:8080/",
     "height": 976
    },
    "colab_type": "code",
    "id": "wWD5U4a-tDyp",
    "outputId": "a925e9f8-8485-4e18-f7e1-e22069cbdcc9"
   },
   "outputs": [
    {
     "name": "stderr",
     "output_type": "stream",
     "text": [
      "'apt-get'은(는) 내부 또는 외부 명령, 실행할 수 있는 프로그램, 또는\n",
      "배치 파일이 아닙니다.\n",
      "'apt-get'은(는) 내부 또는 외부 명령, 실행할 수 있는 프로그램, 또는\n",
      "배치 파일이 아닙니다.\n",
      "'fc-cache'은(는) 내부 또는 외부 명령, 실행할 수 있는 프로그램, 또는\n",
      "배치 파일이 아닙니다.\n",
      "'cp'은(는) 내부 또는 외부 명령, 실행할 수 있는 프로그램, 또는\n",
      "배치 파일이 아닙니다.\n",
      "'rm'은(는) 내부 또는 외부 명령, 실행할 수 있는 프로그램, 또는\n",
      "배치 파일이 아닙니다.\n"
     ]
    }
   ],
   "source": [
    "#한글 설치\n",
    "!apt-get install fonts-nanum*\n",
    "!apt-get install fontconfig\n",
    "!fc-cache -fv\n",
    "!cp /usr/share/fonts/truetype/nanum/Nanum* /usr/local/lib/python3.6/dist-packages/matplotlib/mpl-data/fonts/ttf/\n",
    "!rm -rf /content/.cache/matplotlib/*\n",
    "\n",
    "import matplotlib\n",
    "matplotlib.font_manager._rebuild()\n"
   ]
  },
  {
   "cell_type": "markdown",
   "metadata": {},
   "source": [
    "## 한글 폰트 설정 (윈도우, 맥, 리눅스)"
   ]
  },
  {
   "cell_type": "code",
   "execution_count": 32,
   "metadata": {},
   "outputs": [],
   "source": [
    "import platform\n",
    "from matplotlib import font_manager, rc\n",
    "\n",
    "import matplotlib.pyplot as plt\n",
    "import matplotlib\n",
    "\n",
    "if platform.system() == 'Windows':\n",
    "    path = \"c:\\Windows\\Fonts\\malgun.ttf\"\n",
    "    font_name = font_manager.FontProperties(fname=path).get_name()\n",
    "    rc('font', family=font_name)\n",
    "# 맥\n",
    "elif platform.system() == 'Darwin':\n",
    "    rc('font', family='AppleGothic')\n",
    "# 리눅스\n",
    "elif platform.system() == 'Linux':\n",
    "    rc('font', family='NanumBarunGothic')\n",
    "else:\n",
    "    print('system error...')"
   ]
  },
  {
   "cell_type": "markdown",
   "metadata": {},
   "source": [
    "## 시각화\n",
    "- ### 주제 명 : 각 주제에 할당된 상위 두 개 단어로 설정\n",
    "- ### 주제별로 가중치를 시각화"
   ]
  },
  {
   "cell_type": "markdown",
   "metadata": {},
   "source": [
    "#### set_yticklabels(..., ha=\"left\", va=\"top\")\n",
    "- ha : horizontalalignment\n",
    "- va : verticalalignment\n",
    "\n",
    "#### invert_yaxis()\n",
    "- y축의 값이 작을수록 위로 위치하도록 만든다.\n",
    "\n",
    "#### set_tick_params(pad=130)\n",
    "- Distance in points between tick and label\n",
    "\n",
    "#### tight_layout()  \n",
    "- plot간의 간격을 자동으로 맞춰준다."
   ]
  },
  {
   "cell_type": "code",
   "execution_count": 35,
   "metadata": {
    "colab": {
     "base_uri": "https://localhost:8080/",
     "height": 730
    },
    "colab_type": "code",
    "id": "zgdc2cEtmYgs",
    "outputId": "f613a089-5213-4128-f389-b66425639a39"
   },
   "outputs": [
    {
     "data": {
      "image/png": "[encoded data removed]",
      "text/plain": [
       "<Figure size 720x720 with 2 Axes>"
      ]
     },
     "metadata": {
      "needs_background": "light"
     },
     "output_type": "display_data"
    }
   ],
   "source": [
    "fig, ax = plt.subplots(1, 2, figsize=(10, 10))\n",
    "topic_names = [\"{:>2} \".format(i) + \" \".join(words)\n",
    "               for i, words in enumerate(feature_names[sorting[:, :2]])]\n",
    "\n",
    "# 두 개의 열이 있는 막대 그래프\n",
    "for col in [0, 1]:\n",
    "    start = col * 50\n",
    "    end = (col + 1) * 50\n",
    "    ax[col].barh(np.arange(50), np.sum(document_topics100, axis=0)[start:end])\n",
    "    ax[col].set_yticks(np.arange(50))\n",
    "    ax[col].set_yticklabels(topic_names[start:end], ha=\"left\", va=\"top\")\n",
    "    ax[col].invert_yaxis()\n",
    "    ax[col].set_xlim(0, 100)\n",
    "    yax = ax[col].get_yaxis()\n",
    "    yax.set_tick_params(pad=130)\n",
    "plt.tight_layout()"
   ]
  },
  {
   "cell_type": "markdown",
   "metadata": {
    "colab": {},
    "colab_type": "code",
    "id": "GVXeKAoGmYgv"
   },
   "source": [
    "### (분석) \n",
    "- #### LDA 분석으로 얻은 결과는 주제를 구별하는데 도움을 주지만\n",
    "- #### 비지도 학습이기 때문에 완벽한 정답은 아니다. \n",
    "- #### 주제에 할당된 문서를 확인하여 평가하고 검증하는 과정은 사람이 해주어야 한다."
   ]
  }
 ],
 "metadata": {
  "accelerator": "GPU",
  "colab": {
   "collapsed_sections": [],
   "name": "gg_59_토픽모델링.ipynb",
   "provenance": [],
   "version": "0.3.2"
  },
  "kernelspec": {
   "display_name": "Python 3",
   "language": "python",
   "name": "python3"
  },
  "language_info": {
   "codemirror_mode": {
    "name": "ipython",
    "version": 3
   },
   "file_extension": ".py",
   "mimetype": "text/x-python",
   "name": "python",
   "nbconvert_exporter": "python",
   "pygments_lexer": "ipython3",
   "version": "3.8.5"
  }
 },
 "nbformat": 4,
 "nbformat_minor": 1
}
