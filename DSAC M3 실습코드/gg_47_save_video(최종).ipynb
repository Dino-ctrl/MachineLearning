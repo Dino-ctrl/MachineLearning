{
 "cells": [
  {
   "cell_type": "code",
   "execution_count": 1,
   "metadata": {},
   "outputs": [],
   "source": [
    "import cv2\n",
    "import numpy as np"
   ]
  },
  {
   "cell_type": "markdown",
   "metadata": {},
   "source": [
    "- waitkey(n) : key 입력 대기(ms).. 0: 무한 대기\n",
    "- CR: 13, ESC: 27"
   ]
  },
  {
   "cell_type": "markdown",
   "metadata": {},
   "source": [
    "### VideoCapture() : 비디오 캡쳐 객체를 생성\n",
    "- 숫자 인수 : 사용할 카메라 장치의 인덱스(어떤 카메라를 사용할 것인가)\n",
    "- 1개만 부착되어 있으면 0\n",
    "- 2개 이상이면 : 첫 웹캠은 0, 두번째 웹캠은 1으로 지정"
   ]
  },
  {
   "cell_type": "markdown",
   "metadata": {},
   "source": [
    "### VideoWriter(outputFile, fourcc, frame, size) : 비디오 객체를 저장\n",
    "- fourcc는 코덱 정보, \n",
    "- frame : 초당 저장될 프레임\n",
    "- size : 저장될 사이즈\n",
    "\n",
    "### VideoWriter_fourcc : 코덱 정보\n",
    "- VideoWriter_fourcc('D','I','V','X') 또는 VideoWriter_fourcc(*'DIVX') 이런식으로 사용\n",
    "- VideoWriter_fourcc('M','J','P','G') 또는 VideoWriter_fourcc(*'MJPG)\n",
    "- 적용 가능한 코덱 : DIVX, XVID, MJPG, X264, WMV1, WMV2 등\n",
    "- 각 OS마다 지원하는 codec 다릅니다.(Windows는 DIVX)"
   ]
  },
  {
   "cell_type": "markdown",
   "metadata": {},
   "source": [
    "### ret, fram = cap.read() : 비디오의 한 프레임씩 읽는다. \n",
    "- #### 제대로 프레임을 읽으면 ret값이 True, 실패하면 False\n",
    "- fram : 읽은 프레임"
   ]
  },
  {
   "cell_type": "markdown",
   "metadata": {},
   "source": [
    "### cv2.imshow(tital, image)\n",
    "- title : 윈도우 창의 제목\n",
    "- image : cv2.imread() 의 return값"
   ]
  },
  {
   "cell_type": "code",
   "execution_count": 5,
   "metadata": {
    "scrolled": true
   },
   "outputs": [],
   "source": [
    "cap = cv2.VideoCapture(0)\n",
    "fmt = cv2.VideoWriter_fourcc('m','p','4','v')\n",
    "fps = 20.0\n",
    "size = (640, 360)      # 실제 비디오 화면 창도 커진다\n",
    "writer = cv2.VideoWriter('test2.m4v', fmt, fps, size)\n",
    "\n",
    "while True:\n",
    "    _, frame = cap.read() \n",
    "    frame = cv2.resize(frame, size)\n",
    "    writer.write(frame)\n",
    "    cv2.imshow('frame', frame)\n",
    "    if cv2.waitKey(1) == 13: break\n",
    "    \n",
    "writer.release()\n",
    "cap.release()\n",
    "cv2.destroyAllWindows() # 윈도우 제거하기"
   ]
  },
  {
   "cell_type": "code",
   "execution_count": null,
   "metadata": {},
   "outputs": [],
   "source": []
  }
 ],
 "metadata": {
  "kernelspec": {
   "display_name": "Python 3",
   "language": "python",
   "name": "python3"
  },
  "language_info": {
   "codemirror_mode": {
    "name": "ipython",
    "version": 3
   },
   "file_extension": ".py",
   "mimetype": "text/x-python",
   "name": "python",
   "nbconvert_exporter": "python",
   "pygments_lexer": "ipython3",
   "version": "3.7.1"
  }
 },
 "nbformat": 4,
 "nbformat_minor": 2
}
