{
 "cells": [
  {
   "cell_type": "markdown",
   "metadata": {},
   "source": [
    "# SVM (Support Vector Machine)\n",
    "- ### Iris 데이터"
   ]
  },
  {
   "cell_type": "code",
   "execution_count": 8,
   "metadata": {
    "colab": {},
    "colab_type": "code",
    "id": "UxV6Vv_dX4yJ"
   },
   "outputs": [],
   "source": [
    "import numpy as np\n",
    "from sklearn.datasets import load_iris"
   ]
  },
  {
   "cell_type": "code",
   "execution_count": 9,
   "metadata": {},
   "outputs": [],
   "source": [
    "iris = load_iris()"
   ]
  },
  {
   "cell_type": "code",
   "execution_count": 10,
   "metadata": {
    "colab": {},
    "colab_type": "code",
    "id": "djA73vjzX4yO"
   },
   "outputs": [],
   "source": [
    "X, y = iris.data, iris.target"
   ]
  },
  {
   "cell_type": "markdown",
   "metadata": {},
   "source": [
    "### 그래프를 그려 보기 위해 \n",
    "- #### 전체 4개의 특성 중, 앞의 2개의 특성만 사용"
   ]
  },
  {
   "cell_type": "code",
   "execution_count": 11,
   "metadata": {
    "colab": {},
    "colab_type": "code",
    "id": "MKXYzbVIX4yR"
   },
   "outputs": [],
   "source": [
    "X2 = X[:, :2]"
   ]
  },
  {
   "cell_type": "code",
   "execution_count": 12,
   "metadata": {
    "scrolled": true
   },
   "outputs": [
    {
     "data": {
      "text/plain": [
       "array([0, 0, 0, 0, 0, 0, 0, 0, 0, 0, 0, 0, 0, 0, 0, 0, 0, 0, 0, 0, 0, 0,\n",
       "       0, 0, 0, 0, 0, 0, 0, 0, 0, 0, 0, 0, 0, 0, 0, 0, 0, 0, 0, 0, 0, 0,\n",
       "       0, 0, 0, 0, 0, 0, 1, 1, 1, 1, 1, 1, 1, 1, 1, 1, 1, 1, 1, 1, 1, 1,\n",
       "       1, 1, 1, 1, 1, 1, 1, 1, 1, 1, 1, 1, 1, 1, 1, 1, 1, 1, 1, 1, 1, 1,\n",
       "       1, 1, 1, 1, 1, 1, 1, 1, 1, 1, 1, 1, 2, 2, 2, 2, 2, 2, 2, 2, 2, 2,\n",
       "       2, 2, 2, 2, 2, 2, 2, 2, 2, 2, 2, 2, 2, 2, 2, 2, 2, 2, 2, 2, 2, 2,\n",
       "       2, 2, 2, 2, 2, 2, 2, 2, 2, 2, 2, 2, 2, 2, 2, 2, 2, 2])"
      ]
     },
     "execution_count": 12,
     "metadata": {},
     "output_type": "execute_result"
    }
   ],
   "source": [
    "y"
   ]
  },
  {
   "cell_type": "code",
   "execution_count": 13,
   "metadata": {
    "colab": {
     "base_uri": "https://localhost:8080/",
     "height": 301
    },
    "colab_type": "code",
    "executionInfo": {
     "elapsed": 1216,
     "status": "ok",
     "timestamp": 1559868869938,
     "user": {
      "displayName": "김화종",
      "photoUrl": "https://lh4.googleusercontent.com/-sR-MVK_KsAg/AAAAAAAAAAI/AAAAAAAALbE/3e3Eq9nrGuw/s64/photo.jpg",
      "userId": "17353049580175403985"
     },
     "user_tz": -540
    },
    "id": "S2kFrEdEX4yU",
    "outputId": "fd2ba809-b841-460a-d1e0-15932f7a8589",
    "scrolled": true
   },
   "outputs": [
    {
     "data": {
      "text/plain": [
       "Text(0, 0.5, 'Sepal width')"
      ]
     },
     "execution_count": 13,
     "metadata": {},
     "output_type": "execute_result"
    },
    {
     "data": {
      "image/png": "[encoded data removed]",
      "text/plain": [
       "<Figure size 432x288 with 1 Axes>"
      ]
     },
     "metadata": {
      "needs_background": "light"
     },
     "output_type": "display_data"
    }
   ],
   "source": [
    "%matplotlib inline\n",
    "import matplotlib.pyplot as plt\n",
    "\n",
    "markers = ['o', '+', '^']\n",
    "\n",
    "for i in range(3):\n",
    "    xs = X2[:, 0][y == i]\n",
    "    ys = X2[:, 1][y == i]\n",
    "    plt.scatter(xs, ys, marker=markers[i])\n",
    "    \n",
    "plt.legend(iris.target_names)\n",
    "plt.xlabel(\"Sepal length\")\n",
    "plt.ylabel(\"Sepal width\")"
   ]
  },
  {
   "cell_type": "markdown",
   "metadata": {},
   "source": [
    "## 이진 분류 문제로 변환\n",
    "- setosa와 setosa가 아닌 것으로 구분\n",
    "- 즉, 레이블이 0, 1, 2가 아니라 0, 1 두 개만으로 변환"
   ]
  },
  {
   "cell_type": "code",
   "execution_count": 14,
   "metadata": {
    "colab": {
     "base_uri": "https://localhost:8080/",
     "height": 138
    },
    "colab_type": "code",
    "executionInfo": {
     "elapsed": 973,
     "status": "ok",
     "timestamp": 1559868873922,
     "user": {
      "displayName": "김화종",
      "photoUrl": "https://lh4.googleusercontent.com/-sR-MVK_KsAg/AAAAAAAAAAI/AAAAAAAALbE/3e3Eq9nrGuw/s64/photo.jpg",
      "userId": "17353049580175403985"
     },
     "user_tz": -540
    },
    "id": "8X4ndqt0X4yb",
    "outputId": "022597d4-5f53-48fe-9fae-23b005f081aa",
    "scrolled": false
   },
   "outputs": [
    {
     "data": {
      "text/plain": [
       "array([0, 0, 0, 0, 0, 0, 0, 0, 0, 0, 0, 0, 0, 0, 0, 0, 0, 0, 0, 0, 0, 0,\n",
       "       0, 0, 0, 0, 0, 0, 0, 0, 0, 0, 0, 0, 0, 0, 0, 0, 0, 0, 0, 0, 0, 0,\n",
       "       0, 0, 0, 0, 0, 0, 1, 1, 1, 1, 1, 1, 1, 1, 1, 1, 1, 1, 1, 1, 1, 1,\n",
       "       1, 1, 1, 1, 1, 1, 1, 1, 1, 1, 1, 1, 1, 1, 1, 1, 1, 1, 1, 1, 1, 1,\n",
       "       1, 1, 1, 1, 1, 1, 1, 1, 1, 1, 1, 1, 1, 1, 1, 1, 1, 1, 1, 1, 1, 1,\n",
       "       1, 1, 1, 1, 1, 1, 1, 1, 1, 1, 1, 1, 1, 1, 1, 1, 1, 1, 1, 1, 1, 1,\n",
       "       1, 1, 1, 1, 1, 1, 1, 1, 1, 1, 1, 1, 1, 1, 1, 1, 1, 1])"
      ]
     },
     "execution_count": 14,
     "metadata": {},
     "output_type": "execute_result"
    }
   ],
   "source": [
    "y2 = y.copy()              # y의 복사본을 만든다\n",
    "y2[(y2==2)] = 1 # y중에 2의 값을 모두 1로 바꾼다\n",
    "\n",
    "y2"
   ]
  },
  {
   "cell_type": "code",
   "execution_count": 15,
   "metadata": {
    "colab": {},
    "colab_type": "code",
    "id": "2kUAddnlX4yf"
   },
   "outputs": [],
   "source": [
    "from sklearn.model_selection import train_test_split\n",
    "\n",
    "np.random.seed(13)\n",
    "X_train, X_test, y_train, y_test = train_test_split(X2, y2, test_size=0.7)"
   ]
  },
  {
   "cell_type": "code",
   "execution_count": 16,
   "metadata": {
    "colab": {
     "base_uri": "https://localhost:8080/",
     "height": 301
    },
    "colab_type": "code",
    "executionInfo": {
     "elapsed": 1860,
     "status": "ok",
     "timestamp": 1559868881945,
     "user": {
      "displayName": "김화종",
      "photoUrl": "https://lh4.googleusercontent.com/-sR-MVK_KsAg/AAAAAAAAAAI/AAAAAAAALbE/3e3Eq9nrGuw/s64/photo.jpg",
      "userId": "17353049580175403985"
     },
     "user_tz": -540
    },
    "id": "U5T8rsB7X4yi",
    "outputId": "6f24c8da-0f9f-4cf2-8dfa-dcd713d6fb31"
   },
   "outputs": [
    {
     "data": {
      "text/plain": [
       "Text(0, 0.5, 'Sepal width')"
      ]
     },
     "execution_count": 16,
     "metadata": {},
     "output_type": "execute_result"
    },
    {
     "data": {
      "image/png": "[encoded data removed]",
      "text/plain": [
       "<Figure size 432x288 with 1 Axes>"
      ]
     },
     "metadata": {
      "needs_background": "light"
     },
     "output_type": "display_data"
    }
   ],
   "source": [
    "markers = ['o', '+', '^']\n",
    "\n",
    "for i in range(3):\n",
    "    xs = X_train[:, 0][y_train == i]\n",
    "    ys = X_train[:, 1][y_train == i]\n",
    "    plt.scatter(xs, ys, marker=markers[i])\n",
    "    \n",
    "binary_names = ['setosa', 'non-setosa']\n",
    "\n",
    "plt.legend(binary_names)\n",
    "plt.xlabel(\"Sepal length\")\n",
    "plt.ylabel(\"Sepal width\")"
   ]
  },
  {
   "cell_type": "code",
   "execution_count": 19,
   "metadata": {
    "colab": {
     "base_uri": "https://localhost:8080/",
     "height": 121
    },
    "colab_type": "code",
    "executionInfo": {
     "elapsed": 1486,
     "status": "ok",
     "timestamp": 1559870150075,
     "user": {
      "displayName": "김화종",
      "photoUrl": "https://lh4.googleusercontent.com/-sR-MVK_KsAg/AAAAAAAAAAI/AAAAAAAALbE/3e3Eq9nrGuw/s64/photo.jpg",
      "userId": "17353049580175403985"
     },
     "user_tz": -540
    },
    "id": "BmtcwZW_X4ym",
    "outputId": "8482a564-523c-4108-c055-d856c76f0eee",
    "scrolled": false
   },
   "outputs": [
    {
     "name": "stderr",
     "output_type": "stream",
     "text": [
      "C:\\Users\\user\\Anaconda3\\lib\\site-packages\\sklearn\\linear_model\\stochastic_gradient.py:183: FutureWarning: max_iter and tol parameters have been added in SGDClassifier in 0.19. If max_iter is set but tol is left unset, the default value for tol in 0.19 and 0.20 will be None (which is equivalent to -infinity, so it has no effect) but will change in 0.21 to 1e-3. Specify tol to silence this warning.\n",
      "  FutureWarning)\n"
     ]
    },
    {
     "data": {
      "text/plain": [
       "SGDClassifier(alpha=0.0001, average=False, class_weight=None,\n",
       "       early_stopping=False, epsilon=0.1, eta0=0.0, fit_intercept=True,\n",
       "       l1_ratio=0.15, learning_rate='optimal', loss='hinge', max_iter=1000,\n",
       "       n_iter=None, n_iter_no_change=5, n_jobs=None, penalty='l2',\n",
       "       power_t=0.5, random_state=None, shuffle=True, tol=None,\n",
       "       validation_fraction=0.1, verbose=0, warm_start=False)"
      ]
     },
     "execution_count": 19,
     "metadata": {},
     "output_type": "execute_result"
    }
   ],
   "source": [
    "from sklearn.linear_model import SGDClassifier\n",
    "\n",
    "clf = SGDClassifier(max_iter=1000)\n",
    "clf.fit(X_train, y_train)"
   ]
  },
  {
   "cell_type": "code",
   "execution_count": 20,
   "metadata": {
    "colab": {},
    "colab_type": "code",
    "id": "rYW40i3fX4yq"
   },
   "outputs": [],
   "source": [
    "a = clf.coef_[0,0]\n",
    "b = clf.coef_[0,1]\n",
    "c = clf.intercept_"
   ]
  },
  {
   "cell_type": "code",
   "execution_count": 21,
   "metadata": {},
   "outputs": [
    {
     "data": {
      "text/plain": [
       "(15.239461727428921, -13.195939042153158, array([-40.05809383]))"
      ]
     },
     "execution_count": 21,
     "metadata": {},
     "output_type": "execute_result"
    }
   ],
   "source": [
    "a, b, c"
   ]
  },
  {
   "cell_type": "code",
   "execution_count": 22,
   "metadata": {
    "colab": {
     "base_uri": "https://localhost:8080/",
     "height": 35
    },
    "colab_type": "code",
    "executionInfo": {
     "elapsed": 743,
     "status": "ok",
     "timestamp": 1559870156134,
     "user": {
      "displayName": "김화종",
      "photoUrl": "https://lh4.googleusercontent.com/-sR-MVK_KsAg/AAAAAAAAAAI/AAAAAAAALbE/3e3Eq9nrGuw/s64/photo.jpg",
      "userId": "17353049580175403985"
     },
     "user_tz": -540
    },
    "id": "v-nozEt2X4ys",
    "outputId": "3a3bf714-8831-4467-b588-ae135eb44a15",
    "scrolled": true
   },
   "outputs": [
    {
     "data": {
      "text/plain": [
       "1.0"
      ]
     },
     "execution_count": 22,
     "metadata": {},
     "output_type": "execute_result"
    }
   ],
   "source": [
    "clf.score(X_test, y_test)"
   ]
  },
  {
   "cell_type": "markdown",
   "metadata": {
    "colab_type": "text",
    "id": "MFBbgljWX4yw"
   },
   "source": [
    "## SVM\n",
    "- 마진을 최대화 (maximizing the margin)\n",
    "- 즉, 결정경계 주변에 있는 샘플들과 결정경계와의 거리(margin)를 최대화하는 방향으로 결정 경계 설정\n",
    "- 그래야 일반화 성능이 좋아진다"
   ]
  },
  {
   "cell_type": "markdown",
   "metadata": {},
   "source": [
    "- kernel : linear, poly, rbf, sigmoid, precomputed or a callable\n",
    "- C : Error 항의 penalty parameter\n",
    "    - 손실 함수 = C * (에러항) + 규제항\n",
    "    - 즉, C값이 커지면 --> 분류 정확도(훈련 데이터) high, 대신 margin 줄어든다\n",
    "    - 따라서 Noise 많은 데이터의 경우, C 값을 낮춰서 마진을 늘려지도록 하는 것이 좋다\n",
    "- gamma : rbf 커널에서 하나의 훈련 샘플이 얼마나 멀리 영향이 미치게 할 것인가 결정\n",
    "    - gamma 가 커지면, 가깝게 영향"
   ]
  },
  {
   "cell_type": "markdown",
   "metadata": {},
   "source": [
    "### 결정 경계\n",
    "- ax1 + bx2 + c >= 0\n",
    "- x2 >= - a/b x1 - c/b\n",
    "- SVC : a -> w[0], b -> w[1], c -> v"
   ]
  },
  {
   "cell_type": "markdown",
   "metadata": {},
   "source": [
    "Support vector 생성\n",
    "- 각 class 별(column)로 결정 경계에 가장 가까운 데이터 집합"
   ]
  },
  {
   "cell_type": "code",
   "execution_count": 39,
   "metadata": {},
   "outputs": [],
   "source": [
    "from sklearn.svm import SVC"
   ]
  },
  {
   "cell_type": "code",
   "execution_count": 40,
   "metadata": {},
   "outputs": [
    {
     "data": {
      "text/plain": [
       "[<matplotlib.lines.Line2D at 0x16d9536da58>]"
      ]
     },
     "execution_count": 40,
     "metadata": {},
     "output_type": "execute_result"
    },
    {
     "data": {
      "image/png": "[encoded data removed]",
      "text/plain": [
       "<Figure size 576x432 with 1 Axes>"
      ]
     },
     "metadata": {
      "needs_background": "light"
     },
     "output_type": "display_data"
    }
   ],
   "source": [
    "svm_clf = SVC(kernel=\"linear\", C=float(\"inf\"))\n",
    "svm_clf.fit(X_train, y_train)\n",
    "\n",
    "plt.figure(figsize=(8,6)) \n",
    "plt.xlim(3.9,7.1) \n",
    "plt.ylim(1.9,4.5)\n",
    "w = svm_clf.coef_[0]\n",
    "v = svm_clf.intercept_[0]\n",
    "XX = np.linspace(4, 8, 30)\n",
    "\n",
    "decision_boundary = -w[0]/w[1] * XX - v/w[1]\n",
    "margin = 1/w[1]\n",
    "gutter_up = decision_boundary + margin \n",
    "gutter_down = decision_boundary - margin\n",
    "svs = svm_clf.support_vectors_\n",
    "plt.scatter(svs[:, 0], svs[:, 1], s=180, facecolors='#AAFFAA') \n",
    "\n",
    "plt.plot(XX, decision_boundary, \"k-\")\n",
    "plt.plot(XX, gutter_up, \"k--\")\n",
    "plt.plot(XX, gutter_down, \"k--\")"
   ]
  },
  {
   "cell_type": "code",
   "execution_count": 41,
   "metadata": {
    "colab": {
     "base_uri": "https://localhost:8080/",
     "height": 410
    },
    "colab_type": "code",
    "executionInfo": {
     "elapsed": 3811,
     "status": "ok",
     "timestamp": 1559870161596,
     "user": {
      "displayName": "김화종",
      "photoUrl": "https://lh4.googleusercontent.com/-sR-MVK_KsAg/AAAAAAAAAAI/AAAAAAAALbE/3e3Eq9nrGuw/s64/photo.jpg",
      "userId": "17353049580175403985"
     },
     "user_tz": -540
    },
    "id": "j8xfUE3iX4yx",
    "outputId": "343aa38a-6f53-4ca4-afb3-51416d30b532",
    "scrolled": false
   },
   "outputs": [
    {
     "data": {
      "text/plain": [
       "[<matplotlib.lines.Line2D at 0x16d953ddb38>]"
      ]
     },
     "execution_count": 41,
     "metadata": {},
     "output_type": "execute_result"
    },
    {
     "data": {
      "image/png": "[encoded data removed]",
      "text/plain": [
       "<Figure size 576x432 with 1 Axes>"
      ]
     },
     "metadata": {
      "needs_background": "light"
     },
     "output_type": "display_data"
    }
   ],
   "source": [
    "from sklearn.svm import SVC\n",
    "\n",
    "svm_clf = SVC(kernel=\"linear\", C=float(\"inf\"))\n",
    "svm_clf.fit(X_train, y_train)\n",
    "\n",
    "plt.figure(figsize=(8,6)) \n",
    "plt.xlim(3.9,7.1) \n",
    "plt.ylim(1.9,4.5)\n",
    "w = svm_clf.coef_[0]\n",
    "v = svm_clf.intercept_[0]\n",
    "XX = np.linspace(4, 8, 30)\n",
    "\n",
    "decision_boundary = -w[0]/w[1] * XX - v/w[1]\n",
    "margin = 1/w[1]\n",
    "gutter_up = decision_boundary + margin \n",
    "gutter_down = decision_boundary - margin\n",
    "svs = svm_clf.support_vectors_\n",
    "plt.scatter(svs[:, 0], svs[:, 1], s=180, facecolors='#AAFFAA') \n",
    "\n",
    "\n",
    "plt.plot(XX, decision_boundary, \"k-\")\n",
    "plt.plot(XX, gutter_up, \"k--\")\n",
    "plt.plot(XX, gutter_down, \"k--\")\n",
    "\n",
    "markers = ['o', '+', '^'] \n",
    "for i in range(3):\n",
    "    xs = X_train[:, 0][y_train == i]\n",
    "    ys = X_train[:, 1][y_train == i] \n",
    "    plt.scatter(xs, ys, marker=markers[i])\n",
    "    \n",
    "binary_names = ['setosa', 'non-setosa'] \n",
    "plt.legend(binary_names)\n",
    "plt.xlabel(\"Sepal length\") \n",
    "plt.ylabel(\"Sepal width\")\n",
    "\n",
    "# 선형분류 결정 경계선\n",
    "plt.plot(XX, (-a/b * XX + -c/b), \"r-\")"
   ]
  },
  {
   "cell_type": "markdown",
   "metadata": {},
   "source": [
    "### SVM은 선형 모델보다 일반화된 모델을 만들고 과대적합을 피하게 된다"
   ]
  },
  {
   "cell_type": "code",
   "execution_count": 42,
   "metadata": {
    "colab": {
     "base_uri": "https://localhost:8080/",
     "height": 35
    },
    "colab_type": "code",
    "executionInfo": {
     "elapsed": 3113,
     "status": "ok",
     "timestamp": 1559870170840,
     "user": {
      "displayName": "김화종",
      "photoUrl": "https://lh4.googleusercontent.com/-sR-MVK_KsAg/AAAAAAAAAAI/AAAAAAAALbE/3e3Eq9nrGuw/s64/photo.jpg",
      "userId": "17353049580175403985"
     },
     "user_tz": -540
    },
    "id": "lW1uvMr6X4y0",
    "outputId": "0afb0c32-08ed-47d0-cff4-8e45a8dd1c22"
   },
   "outputs": [
    {
     "data": {
      "text/plain": [
       "1.0"
      ]
     },
     "execution_count": 42,
     "metadata": {},
     "output_type": "execute_result"
    }
   ],
   "source": [
    "svm_clf.score(X_test, y_test)"
   ]
  },
  {
   "cell_type": "code",
   "execution_count": 43,
   "metadata": {
    "colab": {
     "base_uri": "https://localhost:8080/",
     "height": 69
    },
    "colab_type": "code",
    "executionInfo": {
     "elapsed": 776,
     "status": "ok",
     "timestamp": 1559870172504,
     "user": {
      "displayName": "김화종",
      "photoUrl": "https://lh4.googleusercontent.com/-sR-MVK_KsAg/AAAAAAAAAAI/AAAAAAAALbE/3e3Eq9nrGuw/s64/photo.jpg",
      "userId": "17353049580175403985"
     },
     "user_tz": -540
    },
    "id": "4mXDiBVVX4y8",
    "outputId": "a981b1b8-f5f4-47b1-c902-d1c51878844a"
   },
   "outputs": [
    {
     "data": {
      "text/plain": [
       "array([[5.5, 3.5],\n",
       "       [6. , 3.4],\n",
       "       [5.6, 3. ]])"
      ]
     },
     "execution_count": 43,
     "metadata": {},
     "output_type": "execute_result"
    }
   ],
   "source": [
    "svs"
   ]
  },
  {
   "cell_type": "markdown",
   "metadata": {
    "colab_type": "text",
    "id": "nJ-cl37TX4zC"
   },
   "source": [
    "## 커널 기법\n",
    "- ### 유방암 예제"
   ]
  },
  {
   "cell_type": "code",
   "execution_count": 23,
   "metadata": {},
   "outputs": [],
   "source": [
    "from sklearn.datasets import load_breast_cancer"
   ]
  },
  {
   "cell_type": "code",
   "execution_count": 24,
   "metadata": {
    "colab": {},
    "colab_type": "code",
    "id": "EBS2HttLea_E"
   },
   "outputs": [],
   "source": [
    "cancer = load_breast_cancer() "
   ]
  },
  {
   "cell_type": "code",
   "execution_count": 25,
   "metadata": {
    "colab": {},
    "colab_type": "code",
    "id": "vR4RCu3dfJ8X"
   },
   "outputs": [],
   "source": [
    "X = cancer.data\n",
    "y = cancer.target"
   ]
  },
  {
   "cell_type": "code",
   "execution_count": 26,
   "metadata": {
    "colab": {
     "base_uri": "https://localhost:8080/",
     "height": 35
    },
    "colab_type": "code",
    "executionInfo": {
     "elapsed": 1178,
     "status": "ok",
     "timestamp": 1559870189795,
     "user": {
      "displayName": "김화종",
      "photoUrl": "https://lh4.googleusercontent.com/-sR-MVK_KsAg/AAAAAAAAAAI/AAAAAAAALbE/3e3Eq9nrGuw/s64/photo.jpg",
      "userId": "17353049580175403985"
     },
     "user_tz": -540
    },
    "id": "5NzsmtQ-flkn",
    "outputId": "27f69ed8-e779-4867-b1ba-addbed81263b"
   },
   "outputs": [
    {
     "data": {
      "text/plain": [
       "((569, 30), (569,))"
      ]
     },
     "execution_count": 26,
     "metadata": {},
     "output_type": "execute_result"
    }
   ],
   "source": [
    "X.shape, y.shape"
   ]
  },
  {
   "cell_type": "markdown",
   "metadata": {},
   "source": [
    "- Kernel coefficient for ‘rbf’, ‘poly’ and ‘sigmoid’\n",
    "- probability : Whether to enable probability estimates"
   ]
  },
  {
   "cell_type": "code",
   "execution_count": 28,
   "metadata": {},
   "outputs": [],
   "source": [
    "import numpy as np\n",
    "from sklearn.model_selection import train_test_split\n",
    "\n",
    "np.random.seed(13)\n",
    "X_train, X_test, y_train, y_test = train_test_split(X, y, stratify=cancer.target)"
   ]
  },
  {
   "cell_type": "code",
   "execution_count": 30,
   "metadata": {
    "colab": {
     "base_uri": "https://localhost:8080/",
     "height": 35
    },
    "colab_type": "code",
    "executionInfo": {
     "elapsed": 895,
     "status": "ok",
     "timestamp": 1559870194233,
     "user": {
      "displayName": "김화종",
      "photoUrl": "https://lh4.googleusercontent.com/-sR-MVK_KsAg/AAAAAAAAAAI/AAAAAAAALbE/3e3Eq9nrGuw/s64/photo.jpg",
      "userId": "17353049580175403985"
     },
     "user_tz": -540
    },
    "id": "fewDaRAqX4zZ",
    "outputId": "ff4a5fbe-faaa-44b4-cd9c-a18a5257b8ec"
   },
   "outputs": [
    {
     "data": {
      "text/plain": [
       "0.6293706293706294"
      ]
     },
     "execution_count": 30,
     "metadata": {},
     "output_type": "execute_result"
    }
   ],
   "source": [
    "from sklearn.svm import SVC\n",
    "# from sklearn.multiclass import OneVsRestClassifier\n",
    "\n",
    "# classifier = OneVsRestClassifier(SVC(kernel='rbf', C=1000, gamma=0.1,probability=True))\n",
    "# classifier = classifier.fit(X_train, y_train)\n",
    "# classifier.score(X_test, y_test)\n",
    "\n",
    "classifier = SVC(kernel='rbf', C=1000, gamma=0.1, probability=True)\n",
    "classifier.fit(X_train, y_train)\n",
    "classifier.score(X_test, y_test)"
   ]
  },
  {
   "cell_type": "code",
   "execution_count": 52,
   "metadata": {
    "scrolled": true
   },
   "outputs": [
    {
     "data": {
      "text/plain": [
       "0.6293706293706294"
      ]
     },
     "execution_count": 52,
     "metadata": {},
     "output_type": "execute_result"
    }
   ],
   "source": [
    "classifier = SVC(kernel='rbf', C=0.1, gamma=0.1, probability=True)\n",
    "classifier.fit(X_train, y_train)\n",
    "classifier.score(X_test, y_test)"
   ]
  },
  {
   "cell_type": "markdown",
   "metadata": {},
   "source": [
    "## 선형 분류의 경우"
   ]
  },
  {
   "cell_type": "code",
   "execution_count": 13,
   "metadata": {
    "colab": {},
    "colab_type": "code",
    "id": "C4nPSDUKX4zg",
    "outputId": "1cf113d2-b8e5-4142-b804-a972b0394af7"
   },
   "outputs": [
    {
     "name": "stderr",
     "output_type": "stream",
     "text": [
      "C:\\Users\\admin\\Anaconda3\\lib\\site-packages\\sklearn\\linear_model\\stochastic_gradient.py:183: FutureWarning: max_iter and tol parameters have been added in SGDClassifier in 0.19. If max_iter is set but tol is left unset, the default value for tol in 0.19 and 0.20 will be None (which is equivalent to -infinity, so it has no effect) but will change in 0.21 to 1e-3. Specify tol to silence this warning.\n",
      "  FutureWarning)\n"
     ]
    },
    {
     "data": {
      "text/plain": [
       "0.9090909090909091"
      ]
     },
     "execution_count": 13,
     "metadata": {},
     "output_type": "execute_result"
    }
   ],
   "source": [
    "from sklearn.linear_model import SGDClassifier\n",
    "\n",
    "clf = SGDClassifier(max_iter=1000)\n",
    "clf.fit(X_train, y_train)\n",
    "clf.score(X_test, y_test)"
   ]
  },
  {
   "cell_type": "code",
   "execution_count": 14,
   "metadata": {
    "colab": {
     "base_uri": "https://localhost:8080/",
     "height": 35
    },
    "colab_type": "code",
    "executionInfo": {
     "elapsed": 1173,
     "status": "ok",
     "timestamp": 1559870254658,
     "user": {
      "displayName": "김화종",
      "photoUrl": "https://lh4.googleusercontent.com/-sR-MVK_KsAg/AAAAAAAAAAI/AAAAAAAALbE/3e3Eq9nrGuw/s64/photo.jpg",
      "userId": "17353049580175403985"
     },
     "user_tz": -540
    },
    "id": "WCBbYrdNX4zk",
    "outputId": "948ce48d-910f-49b0-8506-25ba60f8e044"
   },
   "outputs": [
    {
     "name": "stdout",
     "output_type": "stream",
     "text": [
      "SVM score: 0.9440559440559441\n"
     ]
    }
   ],
   "source": [
    "svm_clf = SVC(kernel=\"linear\")\n",
    "svm_clf.fit(X_train, y_train)\n",
    "\n",
    "print(\"SVM score:\", svm_clf.score(X_test, y_test))"
   ]
  },
  {
   "cell_type": "code",
   "execution_count": 0,
   "metadata": {
    "colab": {},
    "colab_type": "code",
    "id": "Ok2SSyMoX4zo"
   },
   "outputs": [],
   "source": []
  },
  {
   "cell_type": "code",
   "execution_count": 0,
   "metadata": {
    "colab": {},
    "colab_type": "code",
    "id": "d3ueoRIzX4zq"
   },
   "outputs": [],
   "source": []
  }
 ],
 "metadata": {
  "colab": {
   "collapsed_sections": [],
   "name": "gg_39_SVM.ipynb",
   "provenance": [],
   "version": "0.3.2"
  },
  "kernelspec": {
   "display_name": "Python 3",
   "language": "python",
   "name": "python3"
  },
  "language_info": {
   "codemirror_mode": {
    "name": "ipython",
    "version": 3
   },
   "file_extension": ".py",
   "mimetype": "text/x-python",
   "name": "python",
   "nbconvert_exporter": "python",
   "pygments_lexer": "ipython3",
   "version": "3.7.3"
  }
 },
 "nbformat": 4,
 "nbformat_minor": 1
}
