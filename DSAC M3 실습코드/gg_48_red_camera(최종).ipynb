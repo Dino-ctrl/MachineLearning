{
 "cells": [
  {
   "cell_type": "code",
   "execution_count": 1,
   "metadata": {},
   "outputs": [],
   "source": [
    "import cv2\n",
    "import numpy as np"
   ]
  },
  {
   "cell_type": "markdown",
   "metadata": {},
   "source": [
    " ### openCV에서 BGR 순"
   ]
  },
  {
   "cell_type": "code",
   "execution_count": 2,
   "metadata": {},
   "outputs": [],
   "source": [
    "cap = cv2.VideoCapture(0)\n",
    "\n",
    "while True:\n",
    "    _, frame = cap.read()\n",
    "    frame = cv2.resize(frame, (500,300))\n",
    "    \n",
    "    # 파란색과 녹색 부분 제거하기---(*1)\n",
    "    frame[:, :, 0] = 0 # 파란색을 0으로\n",
    "    frame[:, :, 1] = 0 # 초록색을 0으로\n",
    "    \n",
    "    cv2.imshow('RED Camera', frame)\n",
    "    if cv2.waitKey(1) == 13: break\n",
    "\n",
    "cap.release() # 카메라 해제하기\n",
    "cv2.destroyAllWindows() # 윈도우 제거하기"
   ]
  },
  {
   "cell_type": "code",
   "execution_count": null,
   "metadata": {},
   "outputs": [],
   "source": []
  }
 ],
 "metadata": {
  "kernelspec": {
   "display_name": "Python 3",
   "language": "python",
   "name": "python3"
  },
  "language_info": {
   "codemirror_mode": {
    "name": "ipython",
    "version": 3
   },
   "file_extension": ".py",
   "mimetype": "text/x-python",
   "name": "python",
   "nbconvert_exporter": "python",
   "pygments_lexer": "ipython3",
   "version": "3.7.1"
  }
 },
 "nbformat": 4,
 "nbformat_minor": 2
}
