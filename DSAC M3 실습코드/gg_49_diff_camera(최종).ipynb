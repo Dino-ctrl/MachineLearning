{
 "cells": [
  {
   "cell_type": "code",
   "execution_count": 2,
   "metadata": {},
   "outputs": [],
   "source": [
    "import cv2\n",
    "import numpy as np"
   ]
  },
  {
   "cell_type": "markdown",
   "metadata": {},
   "source": [
    " ### openCV에서 BGR 순"
   ]
  },
  {
   "cell_type": "markdown",
   "metadata": {},
   "source": [
    "### cv2.absdiff(img_last, img_b)\n",
    "- #### 두 프레임 사이의 다른 부분의 절대값 계산"
   ]
  },
  {
   "cell_type": "markdown",
   "metadata": {},
   "source": [
    "- frame : 읽어들인 현재 영상\n",
    "- img_b : 현재 frame의 (흑백 영상)\n",
    "- img_last : 이전 frame의 (흑백 영상)  \n",
    "- frame_diff : 차 영상 (흑백)"
   ]
  },
  {
   "cell_type": "code",
   "execution_count": 5,
   "metadata": {},
   "outputs": [],
   "source": [
    "cap = cv2.VideoCapture(0)\n",
    "img_last = None \n",
    "green = (0, 255, 0)\n",
    "\n",
    "while True:\n",
    "    \n",
    "    # 이미지 추출하기\n",
    "    _, frame = cap.read()\n",
    "    frame = cv2.resize(frame, (500, 300))\n",
    "    \n",
    "    # 흑백 이미지로 변환\n",
    "    gray = cv2.cvtColor(frame, cv2.COLOR_BGR2GRAY)\n",
    "    gray = cv2.GaussianBlur(gray, (9, 9), 0)\n",
    "    img_b = cv2.threshold(gray, 100, 255, cv2.THRESH_BINARY)[1]\n",
    "    \n",
    "    # 차이 확인하기\n",
    "    if img_last is None:       # 처음에 한번만 수행\n",
    "        img_last = img_b\n",
    "        continue\n",
    "    frame_diff = cv2.absdiff(img_last, img_b)\n",
    "    \n",
    "    cnts = cv2.findContours(frame_diff, \n",
    "            cv2.RETR_EXTERNAL,\n",
    "            cv2.CHAIN_APPROX_SIMPLE)[0]\n",
    "    \n",
    "    # 차이가 있는 부분 출력\n",
    "    for pt in cnts:\n",
    "        x, y, w, h = cv2.boundingRect(pt)\n",
    "        if w < 50: continue # 작은 변경은 무시하기\n",
    "        cv2.rectangle(frame, (x, y), (x+w, y+h), green, 2)    # 현재 frame에 윤곽선 그리기\n",
    "    # 프레임을 변수에 저장\n",
    "    img_last = img_b\n",
    "    \n",
    "    # 화면에 출력\n",
    "    cv2.imshow(\"Diff Camera\", frame)     # 현재 frame + 윤곽선\n",
    "    cv2.imshow(\"diff data\", frame_diff)  # 차 영상\n",
    "    if cv2.waitKey(1) == 13: break\n",
    "        \n",
    "cap.release()\n",
    "cv2.destroyAllWindows()"
   ]
  },
  {
   "cell_type": "code",
   "execution_count": null,
   "metadata": {},
   "outputs": [],
   "source": []
  }
 ],
 "metadata": {
  "kernelspec": {
   "display_name": "Python 3",
   "language": "python",
   "name": "python3"
  },
  "language_info": {
   "codemirror_mode": {
    "name": "ipython",
    "version": 3
   },
   "file_extension": ".py",
   "mimetype": "text/x-python",
   "name": "python",
   "nbconvert_exporter": "python",
   "pygments_lexer": "ipython3",
   "version": "3.7.1"
  }
 },
 "nbformat": 4,
 "nbformat_minor": 2
}
